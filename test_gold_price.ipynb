{
 "cells": [
  {
   "cell_type": "code",
   "execution_count": 33,
   "id": "62dd0c73",
   "metadata": {},
   "outputs": [],
   "source": [
    "import yfinance as yf\n",
    "import pandas as pd\n",
    "import pandas_datareader.data as web\n",
    "from datetime import datetime\n",
    "\n",
    "import numpy as np\n",
    "from sklearn.preprocessing import MinMaxScaler\n",
    "from tensorflow import keras\n",
    "from tensorflow.keras import layers\n",
    "\n",
    "from sklearn.metrics import mean_squared_error, mean_absolute_error\n",
    "import math"
   ]
  },
  {
   "cell_type": "code",
   "execution_count": 2,
   "id": "8c94c43f",
   "metadata": {},
   "outputs": [],
   "source": [
    "\n",
    "start = datetime(2010, 1, 1)\n",
    "end = datetime(2025, 1, 1)"
   ]
  },
  {
   "cell_type": "code",
   "execution_count": 3,
   "id": "1121f57d",
   "metadata": {},
   "outputs": [
    {
     "name": "stderr",
     "output_type": "stream",
     "text": [
      "/tmp/ipykernel_10754/2594244419.py:2: FutureWarning: YF.download() has changed argument auto_adjust default to True\n",
      "  gold_data = yf.download(\"GC=F\", start=\"2010-01-01\", end=\"2025-01-01\", interval=\"1d\")\n",
      "[*********************100%***********************]  1 of 1 completed\n"
     ]
    }
   ],
   "source": [
    "# Get historical market data for gold\n",
    "gold_data = yf.download(\"GC=F\", start=\"2010-01-01\", end=\"2025-01-01\", interval=\"1d\")\n"
   ]
  },
  {
   "cell_type": "code",
   "execution_count": 4,
   "id": "9a239dd4",
   "metadata": {},
   "outputs": [],
   "source": [
    "# Technical Indicators - add columns to dataframe\n",
    "gold_data['SMA_20'] = gold_data['Close'].rolling(window=20).mean()\n",
    "\n",
    "gold_data['EMA_20'] = gold_data['Close'].ewm(span=20, adjust=False).mean()\n",
    "\n",
    "# RSI\n",
    "def rsi(series, period=14):\n",
    "    delta = series.diff()\n",
    "    gain = (delta.where(delta > 0, 0)).rolling(window=period).mean()\n",
    "    loss = (-delta.where(delta < 0, 0)).rolling(window=period).mean()\n",
    "    rs = gain / loss\n",
    "    return 100 - (100 / (1 + rs))\n",
    "\n",
    "gold_data['RSI_14'] = rsi(gold_data['Close'], 14)\n",
    "\n",
    "# MACD\n",
    "ema_12 = gold_data['Close'].ewm(span=12, adjust=False).mean()\n",
    "ema_26 = gold_data['Close'].ewm(span=26, adjust=False).mean()\n",
    "gold_data['MACD'] = ema_12 - ema_26\n",
    "gold_data['MACD_Signal'] = gold_data['MACD'].ewm(span=9, adjust=False).mean()\n",
    "\n",
    "# Bollinger Bands\n",
    "window = 20\n",
    "gold_data['BB_Middle'] = gold_data['Close'].rolling(window=window).mean()\n",
    "gold_data['BB_STD'] = gold_data['Close'].rolling(window=window).std()\n",
    "gold_data['BB_Upper'] = gold_data['BB_Middle'] + (gold_data['BB_STD'] * 2)\n",
    "gold_data['BB_Lower'] = gold_data['BB_Middle'] - (gold_data['BB_STD'] * 2)\n",
    "\n",
    "# ATR\n",
    "high_low = gold_data['High'] - gold_data['Low']\n",
    "high_close = (gold_data['High'] - gold_data['Close'].shift()).abs()\n",
    "low_close = (gold_data['Low'] - gold_data['Close'].shift()).abs()\n",
    "true_range = pd.concat([high_low, high_close, low_close], axis=1).max(axis=1)\n",
    "gold_data['ATR'] = true_range.rolling(window=14).mean()\n",
    "\n",
    "# 3. Stochastic Oscillator (%K and %D)\n",
    "low_min = gold_data['Low'].rolling(window=14).min()\n",
    "high_max = gold_data['High'].rolling(window=14).max()\n",
    "gold_data['%K'] = (gold_data['Close'] - low_min) / (high_max - low_min) * 100\n",
    "gold_data['%D'] = gold_data['%K'].rolling(window=3).mean()\n",
    "\n",
    "gold_data.dropna(inplace=True)\n"
   ]
  },
  {
   "cell_type": "code",
   "execution_count": 5,
   "id": "2e281c01",
   "metadata": {},
   "outputs": [
    {
     "data": {
      "application/vnd.microsoft.datawrangler.viewer.v0+json": {
       "columns": [
        {
         "name": "Date",
         "rawType": "datetime64[ns]",
         "type": "datetime"
        },
        {
         "name": "('Close', 'GC=F')",
         "rawType": "float64",
         "type": "float"
        },
        {
         "name": "('High', 'GC=F')",
         "rawType": "float64",
         "type": "float"
        },
        {
         "name": "('Low', 'GC=F')",
         "rawType": "float64",
         "type": "float"
        },
        {
         "name": "('Open', 'GC=F')",
         "rawType": "float64",
         "type": "float"
        },
        {
         "name": "('Volume', 'GC=F')",
         "rawType": "int64",
         "type": "integer"
        },
        {
         "name": "('SMA_20', '')",
         "rawType": "float64",
         "type": "float"
        },
        {
         "name": "('EMA_20', '')",
         "rawType": "float64",
         "type": "float"
        },
        {
         "name": "('RSI_14', '')",
         "rawType": "float64",
         "type": "float"
        },
        {
         "name": "('MACD', '')",
         "rawType": "float64",
         "type": "float"
        },
        {
         "name": "('MACD_Signal', '')",
         "rawType": "float64",
         "type": "float"
        },
        {
         "name": "('BB_Middle', '')",
         "rawType": "float64",
         "type": "float"
        },
        {
         "name": "('BB_STD', '')",
         "rawType": "float64",
         "type": "float"
        },
        {
         "name": "('BB_Upper', '')",
         "rawType": "float64",
         "type": "float"
        },
        {
         "name": "('BB_Lower', '')",
         "rawType": "float64",
         "type": "float"
        },
        {
         "name": "('ATR', '')",
         "rawType": "float64",
         "type": "float"
        },
        {
         "name": "('%K', '')",
         "rawType": "float64",
         "type": "float"
        },
        {
         "name": "('%D', '')",
         "rawType": "float64",
         "type": "float"
        }
       ],
       "ref": "40eb4bde-5eb4-48ce-aa06-a92619f42d98",
       "rows": [
        [
         "2024-12-24 00:00:00",
         "2620.0",
         "2620.0",
         "2609.5",
         "2613.0",
         "35",
         "2647.0549926757812",
         "2643.1438156902286",
         "44.97919436459945",
         "-9.144971703234205",
         "-3.8995558282173834",
         "2647.0549926757812",
         "31.69888274995802",
         "2710.4527581756975",
         "2583.657227175865",
         "34.8428955078125",
         "24.98346377238426",
         "25.20319577015911"
        ],
        [
         "2024-12-26 00:00:00",
         "2638.800048828125",
         "2638.800048828125",
         "2627.89990234375",
         "2628.5",
         "84",
         "2647.9799926757814",
         "2642.730123608124",
         "51.858615628721715",
         "-8.295974394697623",
         "-4.778839541513432",
         "2647.9799926757814",
         "31.14209265350716",
         "2710.264177982796",
         "2585.695807368767",
         "34.0928955078125",
         "37.376380634186454",
         "27.422510405887333"
        ],
        [
         "2024-12-27 00:00:00",
         "2617.199951171875",
         "2617.699951171875",
         "2616.39990234375",
         "2617.699951171875",
         "642",
         "2646.8449951171874",
         "2640.2986786141955",
         "46.832424009615295",
         "-9.259349257798931",
         "-5.674941484770532",
         "2646.8449951171874",
         "31.857517883291898",
         "2710.560030883771",
         "2583.1299593506037",
         "33.864327566964285",
         "23.13768280377171",
         "28.49917573678087"
        ],
        [
         "2024-12-30 00:00:00",
         "2606.10009765625",
         "2626.89990234375",
         "2597.0",
         "2620.699951171875",
         "794",
         "2644.3",
         "2637.041670903915",
         "40.886579837592805",
         "-10.794068883893488",
         "-6.698766964595123",
         "2644.3",
         "33.015634263022136",
         "2710.3312685260444",
         "2578.268731473956",
         "32.69288853236607",
         "15.820703839784475",
         "25.444922425914275"
        ],
        [
         "2024-12-31 00:00:00",
         "2629.199951171875",
         "2629.199951171875",
         "2604.89990234375",
         "2608.39990234375",
         "401",
         "2644.015002441406",
         "2636.2948404532444",
         "39.07345050532468",
         "-10.030751855981634",
         "-7.365163942872425",
         "2644.015002441406",
         "33.12546736631548",
         "2710.265937174037",
         "2577.764067708775",
         "31.771466936383927",
         "31.048034723663946",
         "23.335473789073436"
        ]
       ],
       "shape": {
        "columns": 17,
        "rows": 5
       }
      },
      "text/html": [
       "<div>\n",
       "<style scoped>\n",
       "    .dataframe tbody tr th:only-of-type {\n",
       "        vertical-align: middle;\n",
       "    }\n",
       "\n",
       "    .dataframe tbody tr th {\n",
       "        vertical-align: top;\n",
       "    }\n",
       "\n",
       "    .dataframe thead tr th {\n",
       "        text-align: left;\n",
       "    }\n",
       "\n",
       "    .dataframe thead tr:last-of-type th {\n",
       "        text-align: right;\n",
       "    }\n",
       "</style>\n",
       "<table border=\"1\" class=\"dataframe\">\n",
       "  <thead>\n",
       "    <tr>\n",
       "      <th>Price</th>\n",
       "      <th>Close</th>\n",
       "      <th>High</th>\n",
       "      <th>Low</th>\n",
       "      <th>Open</th>\n",
       "      <th>Volume</th>\n",
       "      <th>SMA_20</th>\n",
       "      <th>EMA_20</th>\n",
       "      <th>RSI_14</th>\n",
       "      <th>MACD</th>\n",
       "      <th>MACD_Signal</th>\n",
       "      <th>BB_Middle</th>\n",
       "      <th>BB_STD</th>\n",
       "      <th>BB_Upper</th>\n",
       "      <th>BB_Lower</th>\n",
       "      <th>ATR</th>\n",
       "      <th>%K</th>\n",
       "      <th>%D</th>\n",
       "    </tr>\n",
       "    <tr>\n",
       "      <th>Ticker</th>\n",
       "      <th>GC=F</th>\n",
       "      <th>GC=F</th>\n",
       "      <th>GC=F</th>\n",
       "      <th>GC=F</th>\n",
       "      <th>GC=F</th>\n",
       "      <th></th>\n",
       "      <th></th>\n",
       "      <th></th>\n",
       "      <th></th>\n",
       "      <th></th>\n",
       "      <th></th>\n",
       "      <th></th>\n",
       "      <th></th>\n",
       "      <th></th>\n",
       "      <th></th>\n",
       "      <th></th>\n",
       "      <th></th>\n",
       "    </tr>\n",
       "    <tr>\n",
       "      <th>Date</th>\n",
       "      <th></th>\n",
       "      <th></th>\n",
       "      <th></th>\n",
       "      <th></th>\n",
       "      <th></th>\n",
       "      <th></th>\n",
       "      <th></th>\n",
       "      <th></th>\n",
       "      <th></th>\n",
       "      <th></th>\n",
       "      <th></th>\n",
       "      <th></th>\n",
       "      <th></th>\n",
       "      <th></th>\n",
       "      <th></th>\n",
       "      <th></th>\n",
       "      <th></th>\n",
       "    </tr>\n",
       "  </thead>\n",
       "  <tbody>\n",
       "    <tr>\n",
       "      <th>2024-12-24</th>\n",
       "      <td>2620.000000</td>\n",
       "      <td>2620.000000</td>\n",
       "      <td>2609.500000</td>\n",
       "      <td>2613.000000</td>\n",
       "      <td>35</td>\n",
       "      <td>2647.054993</td>\n",
       "      <td>2643.143816</td>\n",
       "      <td>44.979194</td>\n",
       "      <td>-9.144972</td>\n",
       "      <td>-3.899556</td>\n",
       "      <td>2647.054993</td>\n",
       "      <td>31.698883</td>\n",
       "      <td>2710.452758</td>\n",
       "      <td>2583.657227</td>\n",
       "      <td>34.842896</td>\n",
       "      <td>24.983464</td>\n",
       "      <td>25.203196</td>\n",
       "    </tr>\n",
       "    <tr>\n",
       "      <th>2024-12-26</th>\n",
       "      <td>2638.800049</td>\n",
       "      <td>2638.800049</td>\n",
       "      <td>2627.899902</td>\n",
       "      <td>2628.500000</td>\n",
       "      <td>84</td>\n",
       "      <td>2647.979993</td>\n",
       "      <td>2642.730124</td>\n",
       "      <td>51.858616</td>\n",
       "      <td>-8.295974</td>\n",
       "      <td>-4.778840</td>\n",
       "      <td>2647.979993</td>\n",
       "      <td>31.142093</td>\n",
       "      <td>2710.264178</td>\n",
       "      <td>2585.695807</td>\n",
       "      <td>34.092896</td>\n",
       "      <td>37.376381</td>\n",
       "      <td>27.422510</td>\n",
       "    </tr>\n",
       "    <tr>\n",
       "      <th>2024-12-27</th>\n",
       "      <td>2617.199951</td>\n",
       "      <td>2617.699951</td>\n",
       "      <td>2616.399902</td>\n",
       "      <td>2617.699951</td>\n",
       "      <td>642</td>\n",
       "      <td>2646.844995</td>\n",
       "      <td>2640.298679</td>\n",
       "      <td>46.832424</td>\n",
       "      <td>-9.259349</td>\n",
       "      <td>-5.674941</td>\n",
       "      <td>2646.844995</td>\n",
       "      <td>31.857518</td>\n",
       "      <td>2710.560031</td>\n",
       "      <td>2583.129959</td>\n",
       "      <td>33.864328</td>\n",
       "      <td>23.137683</td>\n",
       "      <td>28.499176</td>\n",
       "    </tr>\n",
       "    <tr>\n",
       "      <th>2024-12-30</th>\n",
       "      <td>2606.100098</td>\n",
       "      <td>2626.899902</td>\n",
       "      <td>2597.000000</td>\n",
       "      <td>2620.699951</td>\n",
       "      <td>794</td>\n",
       "      <td>2644.300000</td>\n",
       "      <td>2637.041671</td>\n",
       "      <td>40.886580</td>\n",
       "      <td>-10.794069</td>\n",
       "      <td>-6.698767</td>\n",
       "      <td>2644.300000</td>\n",
       "      <td>33.015634</td>\n",
       "      <td>2710.331269</td>\n",
       "      <td>2578.268731</td>\n",
       "      <td>32.692889</td>\n",
       "      <td>15.820704</td>\n",
       "      <td>25.444922</td>\n",
       "    </tr>\n",
       "    <tr>\n",
       "      <th>2024-12-31</th>\n",
       "      <td>2629.199951</td>\n",
       "      <td>2629.199951</td>\n",
       "      <td>2604.899902</td>\n",
       "      <td>2608.399902</td>\n",
       "      <td>401</td>\n",
       "      <td>2644.015002</td>\n",
       "      <td>2636.294840</td>\n",
       "      <td>39.073451</td>\n",
       "      <td>-10.030752</td>\n",
       "      <td>-7.365164</td>\n",
       "      <td>2644.015002</td>\n",
       "      <td>33.125467</td>\n",
       "      <td>2710.265937</td>\n",
       "      <td>2577.764068</td>\n",
       "      <td>31.771467</td>\n",
       "      <td>31.048035</td>\n",
       "      <td>23.335474</td>\n",
       "    </tr>\n",
       "  </tbody>\n",
       "</table>\n",
       "</div>"
      ],
      "text/plain": [
       "Price             Close         High          Low         Open Volume  \\\n",
       "Ticker             GC=F         GC=F         GC=F         GC=F   GC=F   \n",
       "Date                                                                    \n",
       "2024-12-24  2620.000000  2620.000000  2609.500000  2613.000000     35   \n",
       "2024-12-26  2638.800049  2638.800049  2627.899902  2628.500000     84   \n",
       "2024-12-27  2617.199951  2617.699951  2616.399902  2617.699951    642   \n",
       "2024-12-30  2606.100098  2626.899902  2597.000000  2620.699951    794   \n",
       "2024-12-31  2629.199951  2629.199951  2604.899902  2608.399902    401   \n",
       "\n",
       "Price            SMA_20       EMA_20     RSI_14       MACD MACD_Signal  \\\n",
       "Ticker                                                                   \n",
       "Date                                                                     \n",
       "2024-12-24  2647.054993  2643.143816  44.979194  -9.144972   -3.899556   \n",
       "2024-12-26  2647.979993  2642.730124  51.858616  -8.295974   -4.778840   \n",
       "2024-12-27  2646.844995  2640.298679  46.832424  -9.259349   -5.674941   \n",
       "2024-12-30  2644.300000  2637.041671  40.886580 -10.794069   -6.698767   \n",
       "2024-12-31  2644.015002  2636.294840  39.073451 -10.030752   -7.365164   \n",
       "\n",
       "Price         BB_Middle     BB_STD     BB_Upper     BB_Lower        ATR  \\\n",
       "Ticker                                                                    \n",
       "Date                                                                      \n",
       "2024-12-24  2647.054993  31.698883  2710.452758  2583.657227  34.842896   \n",
       "2024-12-26  2647.979993  31.142093  2710.264178  2585.695807  34.092896   \n",
       "2024-12-27  2646.844995  31.857518  2710.560031  2583.129959  33.864328   \n",
       "2024-12-30  2644.300000  33.015634  2710.331269  2578.268731  32.692889   \n",
       "2024-12-31  2644.015002  33.125467  2710.265937  2577.764068  31.771467   \n",
       "\n",
       "Price              %K         %D  \n",
       "Ticker                            \n",
       "Date                              \n",
       "2024-12-24  24.983464  25.203196  \n",
       "2024-12-26  37.376381  27.422510  \n",
       "2024-12-27  23.137683  28.499176  \n",
       "2024-12-30  15.820704  25.444922  \n",
       "2024-12-31  31.048035  23.335474  "
      ]
     },
     "execution_count": 5,
     "metadata": {},
     "output_type": "execute_result"
    }
   ],
   "source": [
    "gold_data.tail()"
   ]
  },
  {
   "cell_type": "markdown",
   "id": "19ea41ad",
   "metadata": {},
   "source": [
    "Macro Economics Variables"
   ]
  },
  {
   "cell_type": "code",
   "execution_count": 6,
   "id": "b8057579",
   "metadata": {},
   "outputs": [
    {
     "name": "stderr",
     "output_type": "stream",
     "text": [
      "/tmp/ipykernel_10754/2288598774.py:2: FutureWarning: YF.download() has changed argument auto_adjust default to True\n",
      "  dxy = yf.download(\"DX-Y.NYB\", start='2010-01-01', end = \"2025-01-01\")\n",
      "[*********************100%***********************]  1 of 1 completed\n"
     ]
    }
   ],
   "source": [
    "# USD Index (DXY)\n",
    "dxy = yf.download(\"DX-Y.NYB\", start='2010-01-01', end = \"2025-01-01\")"
   ]
  },
  {
   "cell_type": "code",
   "execution_count": 7,
   "id": "b48c7805",
   "metadata": {},
   "outputs": [
    {
     "name": "stderr",
     "output_type": "stream",
     "text": [
      "/tmp/ipykernel_10754/4018371889.py:2: FutureWarning: YF.download() has changed argument auto_adjust default to True\n",
      "  tnx = yf.download(\"^TNX\", start='2010-01-01', end=\"2025-01-01\")\n",
      "[*********************100%***********************]  1 of 1 completed\n"
     ]
    }
   ],
   "source": [
    "# US Treasury Yields (Interest Rates)\n",
    "tnx = yf.download(\"^TNX\", start='2010-01-01', end=\"2025-01-01\")"
   ]
  },
  {
   "cell_type": "code",
   "execution_count": 8,
   "id": "7d428eb9",
   "metadata": {},
   "outputs": [],
   "source": [
    "# Inflation Data (CPI)\n",
    "inflation = web.DataReader('CPIAUCSL', 'fred', start, end)"
   ]
  },
  {
   "cell_type": "code",
   "execution_count": 9,
   "id": "6ff212b8",
   "metadata": {},
   "outputs": [
    {
     "name": "stderr",
     "output_type": "stream",
     "text": [
      "/tmp/ipykernel_10754/110861491.py:2: FutureWarning: YF.download() has changed argument auto_adjust default to True\n",
      "  oil = yf.download(\"CL=F\", start='2010-01-01', end=\"2025-01-01\")\n",
      "[*********************100%***********************]  1 of 1 completed\n"
     ]
    }
   ],
   "source": [
    "# Oil Prices WTI\n",
    "oil = yf.download(\"CL=F\", start='2010-01-01', end=\"2025-01-01\")\n"
   ]
  },
  {
   "cell_type": "code",
   "execution_count": 10,
   "id": "c986a359",
   "metadata": {},
   "outputs": [
    {
     "name": "stderr",
     "output_type": "stream",
     "text": [
      "/tmp/ipykernel_10754/2983518908.py:2: FutureWarning: YF.download() has changed argument auto_adjust default to True\n",
      "  silver_data = yf.download(\"SI=F\", start='2010-01-01', end=\"2025-01-01\")\n",
      "[*********************100%***********************]  1 of 1 completed\n"
     ]
    }
   ],
   "source": [
    "# Silver Prices\n",
    "silver_data = yf.download(\"SI=F\", start='2010-01-01', end=\"2025-01-01\")"
   ]
  },
  {
   "cell_type": "code",
   "execution_count": 11,
   "id": "7071b4dc",
   "metadata": {},
   "outputs": [
    {
     "data": {
      "application/vnd.microsoft.datawrangler.viewer.v0+json": {
       "columns": [
        {
         "name": "DATE",
         "rawType": "datetime64[ns]",
         "type": "datetime"
        },
        {
         "name": "CPIAUCSL",
         "rawType": "float64",
         "type": "float"
        }
       ],
       "ref": "71962f34-c0d9-485c-a5fb-a4fe956410bc",
       "rows": [
        [
         "2024-09-01 00:00:00",
         "314.851"
        ],
        [
         "2024-10-01 00:00:00",
         "315.564"
        ],
        [
         "2024-11-01 00:00:00",
         "316.449"
        ],
        [
         "2024-12-01 00:00:00",
         "317.603"
        ],
        [
         "2025-01-01 00:00:00",
         "319.086"
        ]
       ],
       "shape": {
        "columns": 1,
        "rows": 5
       }
      },
      "text/html": [
       "<div>\n",
       "<style scoped>\n",
       "    .dataframe tbody tr th:only-of-type {\n",
       "        vertical-align: middle;\n",
       "    }\n",
       "\n",
       "    .dataframe tbody tr th {\n",
       "        vertical-align: top;\n",
       "    }\n",
       "\n",
       "    .dataframe thead th {\n",
       "        text-align: right;\n",
       "    }\n",
       "</style>\n",
       "<table border=\"1\" class=\"dataframe\">\n",
       "  <thead>\n",
       "    <tr style=\"text-align: right;\">\n",
       "      <th></th>\n",
       "      <th>CPIAUCSL</th>\n",
       "    </tr>\n",
       "    <tr>\n",
       "      <th>DATE</th>\n",
       "      <th></th>\n",
       "    </tr>\n",
       "  </thead>\n",
       "  <tbody>\n",
       "    <tr>\n",
       "      <th>2024-09-01</th>\n",
       "      <td>314.851</td>\n",
       "    </tr>\n",
       "    <tr>\n",
       "      <th>2024-10-01</th>\n",
       "      <td>315.564</td>\n",
       "    </tr>\n",
       "    <tr>\n",
       "      <th>2024-11-01</th>\n",
       "      <td>316.449</td>\n",
       "    </tr>\n",
       "    <tr>\n",
       "      <th>2024-12-01</th>\n",
       "      <td>317.603</td>\n",
       "    </tr>\n",
       "    <tr>\n",
       "      <th>2025-01-01</th>\n",
       "      <td>319.086</td>\n",
       "    </tr>\n",
       "  </tbody>\n",
       "</table>\n",
       "</div>"
      ],
      "text/plain": [
       "            CPIAUCSL\n",
       "DATE                \n",
       "2024-09-01   314.851\n",
       "2024-10-01   315.564\n",
       "2024-11-01   316.449\n",
       "2024-12-01   317.603\n",
       "2025-01-01   319.086"
      ]
     },
     "execution_count": 11,
     "metadata": {},
     "output_type": "execute_result"
    }
   ],
   "source": [
    "inflation.tail()"
   ]
  },
  {
   "cell_type": "code",
   "execution_count": 12,
   "id": "4efff510",
   "metadata": {},
   "outputs": [
    {
     "name": "stderr",
     "output_type": "stream",
     "text": [
      "/tmp/ipykernel_10754/2655632473.py:2: FutureWarning: YF.download() has changed argument auto_adjust default to True\n",
      "  sp500 = yf.download(\"^GSPC\", start='2010-01-01', end=\"2025-01-01\")\n",
      "[*********************100%***********************]  1 of 1 completed\n"
     ]
    }
   ],
   "source": [
    "# S&P 500 Index\n",
    "sp500 = yf.download(\"^GSPC\", start='2010-01-01', end=\"2025-01-01\")\n"
   ]
  },
  {
   "cell_type": "code",
   "execution_count": 13,
   "id": "45352a58",
   "metadata": {},
   "outputs": [
    {
     "name": "stderr",
     "output_type": "stream",
     "text": [
      "/tmp/ipykernel_10754/3026517024.py:2: FutureWarning: YF.download() has changed argument auto_adjust default to True\n",
      "  gold_etf = yf.download(\"GLD\", start='2010-01-01', end=\"2025-01-01\")\n",
      "[*********************100%***********************]  1 of 1 completed\n"
     ]
    }
   ],
   "source": [
    "# Gold ETF Holdings\n",
    "gold_etf = yf.download(\"GLD\", start='2010-01-01', end=\"2025-01-01\")\n"
   ]
  },
  {
   "cell_type": "code",
   "execution_count": 14,
   "id": "0539ec84",
   "metadata": {},
   "outputs": [],
   "source": [
    "gold_data['DXY_Close'] = dxy['Close']\n",
    "gold_data['TNX_Close'] = tnx['Close']\n",
    "gold_data['Oil_Close'] = oil['Close']\n",
    "gold_data['SP500_Close'] = sp500['Close']\n",
    "gold_data['Gold_ETF_Close'] = gold_etf['Close']\n",
    "gold_data['CPIAUCSL'] = inflation['CPIAUCSL'].reindex(gold_data.index, method='ffill')\n",
    "gold_data['Silver_Close'] = silver_data['Close']\n"
   ]
  },
  {
   "cell_type": "code",
   "execution_count": 15,
   "id": "ab433cf3",
   "metadata": {},
   "outputs": [
    {
     "data": {
      "application/vnd.microsoft.datawrangler.viewer.v0+json": {
       "columns": [
        {
         "name": "Date",
         "rawType": "datetime64[ns]",
         "type": "datetime"
        },
        {
         "name": "('Close', 'GC=F')",
         "rawType": "float64",
         "type": "float"
        },
        {
         "name": "('High', 'GC=F')",
         "rawType": "float64",
         "type": "float"
        },
        {
         "name": "('Low', 'GC=F')",
         "rawType": "float64",
         "type": "float"
        },
        {
         "name": "('Open', 'GC=F')",
         "rawType": "float64",
         "type": "float"
        },
        {
         "name": "('Volume', 'GC=F')",
         "rawType": "int64",
         "type": "integer"
        },
        {
         "name": "('SMA_20', '')",
         "rawType": "float64",
         "type": "float"
        },
        {
         "name": "('EMA_20', '')",
         "rawType": "float64",
         "type": "float"
        },
        {
         "name": "('RSI_14', '')",
         "rawType": "float64",
         "type": "float"
        },
        {
         "name": "('MACD', '')",
         "rawType": "float64",
         "type": "float"
        },
        {
         "name": "('MACD_Signal', '')",
         "rawType": "float64",
         "type": "float"
        },
        {
         "name": "('BB_Middle', '')",
         "rawType": "float64",
         "type": "float"
        },
        {
         "name": "('BB_STD', '')",
         "rawType": "float64",
         "type": "float"
        },
        {
         "name": "('BB_Upper', '')",
         "rawType": "float64",
         "type": "float"
        },
        {
         "name": "('BB_Lower', '')",
         "rawType": "float64",
         "type": "float"
        },
        {
         "name": "('ATR', '')",
         "rawType": "float64",
         "type": "float"
        },
        {
         "name": "('%K', '')",
         "rawType": "float64",
         "type": "float"
        },
        {
         "name": "('%D', '')",
         "rawType": "float64",
         "type": "float"
        },
        {
         "name": "('DXY_Close', '')",
         "rawType": "float64",
         "type": "float"
        },
        {
         "name": "('TNX_Close', '')",
         "rawType": "float64",
         "type": "float"
        },
        {
         "name": "('Oil_Close', '')",
         "rawType": "float64",
         "type": "float"
        },
        {
         "name": "('SP500_Close', '')",
         "rawType": "float64",
         "type": "float"
        },
        {
         "name": "('Gold_ETF_Close', '')",
         "rawType": "float64",
         "type": "float"
        },
        {
         "name": "('CPIAUCSL', '')",
         "rawType": "float64",
         "type": "float"
        },
        {
         "name": "('Silver_Close', '')",
         "rawType": "float64",
         "type": "float"
        }
       ],
       "ref": "9c0f8553-8d06-4155-9ee1-a71479eae741",
       "rows": [
        [
         "2024-12-24 00:00:00",
         "2620.0",
         "2620.0",
         "2609.5",
         "2613.0",
         "35",
         "2647.0549926757812",
         "2643.1438156902286",
         "44.97919436459945",
         "-9.144971703234205",
         "-3.8995558282173834",
         "2647.0549926757812",
         "31.69888274995802",
         "2710.4527581756975",
         "2583.657227175865",
         "34.8428955078125",
         "24.98346377238426",
         "25.20319577015911",
         "108.26000213623047",
         "4.591000080108643",
         "70.0999984741211",
         "6040.0400390625",
         "241.44000244140625",
         "317.603",
         "29.974000930786133"
        ],
        [
         "2024-12-26 00:00:00",
         "2638.800048828125",
         "2638.800048828125",
         "2627.89990234375",
         "2628.5",
         "84",
         "2647.9799926757814",
         "2642.730123608124",
         "51.858615628721715",
         "-8.295974394697623",
         "-4.778839541513432",
         "2647.9799926757814",
         "31.14209265350716",
         "2710.264177982796",
         "2585.695807368767",
         "34.0928955078125",
         "37.376380634186454",
         "27.422510405887333",
         "108.12999725341797",
         "4.578999996185303",
         "69.62000274658203",
         "6037.58984375",
         "243.07000732421875",
         "317.603",
         "30.047000885009766"
        ],
        [
         "2024-12-27 00:00:00",
         "2617.199951171875",
         "2617.699951171875",
         "2616.39990234375",
         "2617.699951171875",
         "642",
         "2646.8449951171874",
         "2640.2986786141955",
         "46.832424009615295",
         "-9.259349257798931",
         "-5.674941484770532",
         "2646.8449951171874",
         "31.857517883291898",
         "2710.560030883771",
         "2583.1299593506037",
         "33.864327566964285",
         "23.13768280377171",
         "28.49917573678087",
         "108.0",
         "4.61899995803833",
         "70.5999984741211",
         "5970.83984375",
         "241.39999389648438",
         "317.603",
         "29.655000686645508"
        ],
        [
         "2024-12-30 00:00:00",
         "2606.10009765625",
         "2626.89990234375",
         "2597.0",
         "2620.699951171875",
         "794",
         "2644.3",
         "2637.041670903915",
         "40.886579837592805",
         "-10.794068883893488",
         "-6.698766964595123",
         "2644.3",
         "33.015634263022136",
         "2710.3312685260444",
         "2578.268731473956",
         "32.69288853236607",
         "15.820703839784475",
         "25.444922425914275",
         "108.12999725341797",
         "4.545000076293945",
         "70.98999786376953",
         "5906.93994140625",
         "240.6300048828125",
         "317.603",
         "29.106000900268555"
        ],
        [
         "2024-12-31 00:00:00",
         "2629.199951171875",
         "2629.199951171875",
         "2604.89990234375",
         "2608.39990234375",
         "401",
         "2644.015002441406",
         "2636.2948404532444",
         "39.07345050532468",
         "-10.030751855981634",
         "-7.365163942872425",
         "2644.015002441406",
         "33.12546736631548",
         "2710.265937174037",
         "2577.764067708775",
         "31.771466936383927",
         "31.048034723663946",
         "23.335473789073436",
         "108.48999786376953",
         "4.572999954223633",
         "71.72000122070312",
         "5881.6298828125",
         "242.1300048828125",
         "317.603",
         "28.940000534057617"
        ]
       ],
       "shape": {
        "columns": 24,
        "rows": 5
       }
      },
      "text/html": [
       "<div>\n",
       "<style scoped>\n",
       "    .dataframe tbody tr th:only-of-type {\n",
       "        vertical-align: middle;\n",
       "    }\n",
       "\n",
       "    .dataframe tbody tr th {\n",
       "        vertical-align: top;\n",
       "    }\n",
       "\n",
       "    .dataframe thead tr th {\n",
       "        text-align: left;\n",
       "    }\n",
       "\n",
       "    .dataframe thead tr:last-of-type th {\n",
       "        text-align: right;\n",
       "    }\n",
       "</style>\n",
       "<table border=\"1\" class=\"dataframe\">\n",
       "  <thead>\n",
       "    <tr>\n",
       "      <th>Price</th>\n",
       "      <th>Close</th>\n",
       "      <th>High</th>\n",
       "      <th>Low</th>\n",
       "      <th>Open</th>\n",
       "      <th>Volume</th>\n",
       "      <th>SMA_20</th>\n",
       "      <th>EMA_20</th>\n",
       "      <th>RSI_14</th>\n",
       "      <th>MACD</th>\n",
       "      <th>MACD_Signal</th>\n",
       "      <th>...</th>\n",
       "      <th>ATR</th>\n",
       "      <th>%K</th>\n",
       "      <th>%D</th>\n",
       "      <th>DXY_Close</th>\n",
       "      <th>TNX_Close</th>\n",
       "      <th>Oil_Close</th>\n",
       "      <th>SP500_Close</th>\n",
       "      <th>Gold_ETF_Close</th>\n",
       "      <th>CPIAUCSL</th>\n",
       "      <th>Silver_Close</th>\n",
       "    </tr>\n",
       "    <tr>\n",
       "      <th>Ticker</th>\n",
       "      <th>GC=F</th>\n",
       "      <th>GC=F</th>\n",
       "      <th>GC=F</th>\n",
       "      <th>GC=F</th>\n",
       "      <th>GC=F</th>\n",
       "      <th></th>\n",
       "      <th></th>\n",
       "      <th></th>\n",
       "      <th></th>\n",
       "      <th></th>\n",
       "      <th>...</th>\n",
       "      <th></th>\n",
       "      <th></th>\n",
       "      <th></th>\n",
       "      <th></th>\n",
       "      <th></th>\n",
       "      <th></th>\n",
       "      <th></th>\n",
       "      <th></th>\n",
       "      <th></th>\n",
       "      <th></th>\n",
       "    </tr>\n",
       "    <tr>\n",
       "      <th>Date</th>\n",
       "      <th></th>\n",
       "      <th></th>\n",
       "      <th></th>\n",
       "      <th></th>\n",
       "      <th></th>\n",
       "      <th></th>\n",
       "      <th></th>\n",
       "      <th></th>\n",
       "      <th></th>\n",
       "      <th></th>\n",
       "      <th></th>\n",
       "      <th></th>\n",
       "      <th></th>\n",
       "      <th></th>\n",
       "      <th></th>\n",
       "      <th></th>\n",
       "      <th></th>\n",
       "      <th></th>\n",
       "      <th></th>\n",
       "      <th></th>\n",
       "      <th></th>\n",
       "    </tr>\n",
       "  </thead>\n",
       "  <tbody>\n",
       "    <tr>\n",
       "      <th>2024-12-24</th>\n",
       "      <td>2620.000000</td>\n",
       "      <td>2620.000000</td>\n",
       "      <td>2609.500000</td>\n",
       "      <td>2613.000000</td>\n",
       "      <td>35</td>\n",
       "      <td>2647.054993</td>\n",
       "      <td>2643.143816</td>\n",
       "      <td>44.979194</td>\n",
       "      <td>-9.144972</td>\n",
       "      <td>-3.899556</td>\n",
       "      <td>...</td>\n",
       "      <td>34.842896</td>\n",
       "      <td>24.983464</td>\n",
       "      <td>25.203196</td>\n",
       "      <td>108.260002</td>\n",
       "      <td>4.591</td>\n",
       "      <td>70.099998</td>\n",
       "      <td>6040.040039</td>\n",
       "      <td>241.440002</td>\n",
       "      <td>317.603</td>\n",
       "      <td>29.974001</td>\n",
       "    </tr>\n",
       "    <tr>\n",
       "      <th>2024-12-26</th>\n",
       "      <td>2638.800049</td>\n",
       "      <td>2638.800049</td>\n",
       "      <td>2627.899902</td>\n",
       "      <td>2628.500000</td>\n",
       "      <td>84</td>\n",
       "      <td>2647.979993</td>\n",
       "      <td>2642.730124</td>\n",
       "      <td>51.858616</td>\n",
       "      <td>-8.295974</td>\n",
       "      <td>-4.778840</td>\n",
       "      <td>...</td>\n",
       "      <td>34.092896</td>\n",
       "      <td>37.376381</td>\n",
       "      <td>27.422510</td>\n",
       "      <td>108.129997</td>\n",
       "      <td>4.579</td>\n",
       "      <td>69.620003</td>\n",
       "      <td>6037.589844</td>\n",
       "      <td>243.070007</td>\n",
       "      <td>317.603</td>\n",
       "      <td>30.047001</td>\n",
       "    </tr>\n",
       "    <tr>\n",
       "      <th>2024-12-27</th>\n",
       "      <td>2617.199951</td>\n",
       "      <td>2617.699951</td>\n",
       "      <td>2616.399902</td>\n",
       "      <td>2617.699951</td>\n",
       "      <td>642</td>\n",
       "      <td>2646.844995</td>\n",
       "      <td>2640.298679</td>\n",
       "      <td>46.832424</td>\n",
       "      <td>-9.259349</td>\n",
       "      <td>-5.674941</td>\n",
       "      <td>...</td>\n",
       "      <td>33.864328</td>\n",
       "      <td>23.137683</td>\n",
       "      <td>28.499176</td>\n",
       "      <td>108.000000</td>\n",
       "      <td>4.619</td>\n",
       "      <td>70.599998</td>\n",
       "      <td>5970.839844</td>\n",
       "      <td>241.399994</td>\n",
       "      <td>317.603</td>\n",
       "      <td>29.655001</td>\n",
       "    </tr>\n",
       "    <tr>\n",
       "      <th>2024-12-30</th>\n",
       "      <td>2606.100098</td>\n",
       "      <td>2626.899902</td>\n",
       "      <td>2597.000000</td>\n",
       "      <td>2620.699951</td>\n",
       "      <td>794</td>\n",
       "      <td>2644.300000</td>\n",
       "      <td>2637.041671</td>\n",
       "      <td>40.886580</td>\n",
       "      <td>-10.794069</td>\n",
       "      <td>-6.698767</td>\n",
       "      <td>...</td>\n",
       "      <td>32.692889</td>\n",
       "      <td>15.820704</td>\n",
       "      <td>25.444922</td>\n",
       "      <td>108.129997</td>\n",
       "      <td>4.545</td>\n",
       "      <td>70.989998</td>\n",
       "      <td>5906.939941</td>\n",
       "      <td>240.630005</td>\n",
       "      <td>317.603</td>\n",
       "      <td>29.106001</td>\n",
       "    </tr>\n",
       "    <tr>\n",
       "      <th>2024-12-31</th>\n",
       "      <td>2629.199951</td>\n",
       "      <td>2629.199951</td>\n",
       "      <td>2604.899902</td>\n",
       "      <td>2608.399902</td>\n",
       "      <td>401</td>\n",
       "      <td>2644.015002</td>\n",
       "      <td>2636.294840</td>\n",
       "      <td>39.073451</td>\n",
       "      <td>-10.030752</td>\n",
       "      <td>-7.365164</td>\n",
       "      <td>...</td>\n",
       "      <td>31.771467</td>\n",
       "      <td>31.048035</td>\n",
       "      <td>23.335474</td>\n",
       "      <td>108.489998</td>\n",
       "      <td>4.573</td>\n",
       "      <td>71.720001</td>\n",
       "      <td>5881.629883</td>\n",
       "      <td>242.130005</td>\n",
       "      <td>317.603</td>\n",
       "      <td>28.940001</td>\n",
       "    </tr>\n",
       "  </tbody>\n",
       "</table>\n",
       "<p>5 rows × 24 columns</p>\n",
       "</div>"
      ],
      "text/plain": [
       "Price             Close         High          Low         Open Volume  \\\n",
       "Ticker             GC=F         GC=F         GC=F         GC=F   GC=F   \n",
       "Date                                                                    \n",
       "2024-12-24  2620.000000  2620.000000  2609.500000  2613.000000     35   \n",
       "2024-12-26  2638.800049  2638.800049  2627.899902  2628.500000     84   \n",
       "2024-12-27  2617.199951  2617.699951  2616.399902  2617.699951    642   \n",
       "2024-12-30  2606.100098  2626.899902  2597.000000  2620.699951    794   \n",
       "2024-12-31  2629.199951  2629.199951  2604.899902  2608.399902    401   \n",
       "\n",
       "Price            SMA_20       EMA_20     RSI_14       MACD MACD_Signal  ...  \\\n",
       "Ticker                                                                  ...   \n",
       "Date                                                                    ...   \n",
       "2024-12-24  2647.054993  2643.143816  44.979194  -9.144972   -3.899556  ...   \n",
       "2024-12-26  2647.979993  2642.730124  51.858616  -8.295974   -4.778840  ...   \n",
       "2024-12-27  2646.844995  2640.298679  46.832424  -9.259349   -5.674941  ...   \n",
       "2024-12-30  2644.300000  2637.041671  40.886580 -10.794069   -6.698767  ...   \n",
       "2024-12-31  2644.015002  2636.294840  39.073451 -10.030752   -7.365164  ...   \n",
       "\n",
       "Price             ATR         %K         %D   DXY_Close TNX_Close  Oil_Close  \\\n",
       "Ticker                                                                         \n",
       "Date                                                                           \n",
       "2024-12-24  34.842896  24.983464  25.203196  108.260002     4.591  70.099998   \n",
       "2024-12-26  34.092896  37.376381  27.422510  108.129997     4.579  69.620003   \n",
       "2024-12-27  33.864328  23.137683  28.499176  108.000000     4.619  70.599998   \n",
       "2024-12-30  32.692889  15.820704  25.444922  108.129997     4.545  70.989998   \n",
       "2024-12-31  31.771467  31.048035  23.335474  108.489998     4.573  71.720001   \n",
       "\n",
       "Price       SP500_Close Gold_ETF_Close CPIAUCSL Silver_Close  \n",
       "Ticker                                                        \n",
       "Date                                                          \n",
       "2024-12-24  6040.040039     241.440002  317.603    29.974001  \n",
       "2024-12-26  6037.589844     243.070007  317.603    30.047001  \n",
       "2024-12-27  5970.839844     241.399994  317.603    29.655001  \n",
       "2024-12-30  5906.939941     240.630005  317.603    29.106001  \n",
       "2024-12-31  5881.629883     242.130005  317.603    28.940001  \n",
       "\n",
       "[5 rows x 24 columns]"
      ]
     },
     "execution_count": 15,
     "metadata": {},
     "output_type": "execute_result"
    }
   ],
   "source": [
    "gold_data.tail()"
   ]
  },
  {
   "cell_type": "code",
   "execution_count": 23,
   "id": "a9b5d0bf",
   "metadata": {},
   "outputs": [
    {
     "name": "stdout",
     "output_type": "stream",
     "text": [
      "Close_GC=F        float64\n",
      "High_GC=F         float64\n",
      "Low_GC=F          float64\n",
      "Open_GC=F         float64\n",
      "Volume_GC=F         int64\n",
      "SMA_20            float64\n",
      "EMA_20            float64\n",
      "RSI_14            float64\n",
      "MACD              float64\n",
      "MACD_Signal       float64\n",
      "BB_Middle         float64\n",
      "BB_STD            float64\n",
      "BB_Upper          float64\n",
      "BB_Lower          float64\n",
      "ATR               float64\n",
      "%K                float64\n",
      "%D                float64\n",
      "DXY_Close         float64\n",
      "TNX_Close         float64\n",
      "Oil_Close         float64\n",
      "SP500_Close       float64\n",
      "Gold_ETF_Close    float64\n",
      "CPIAUCSL          float64\n",
      "Silver_Close      float64\n",
      "dtype: object\n"
     ]
    }
   ],
   "source": [
    "print(gold_data.dtypes)"
   ]
  },
  {
   "cell_type": "code",
   "execution_count": 17,
   "id": "36976ba4",
   "metadata": {},
   "outputs": [],
   "source": [
    "# Flatten MultiIndex Columns\n",
    "if isinstance(gold_data.columns, pd.MultiIndex):\n",
    "    gold_data = gold_data.copy()\n",
    "    gold_data.columns = [\n",
    "        (f\"{lvl0}\" if (lvl1 is None or lvl1 == '') else f\"{lvl0}_{lvl1}\")\n",
    "        for lvl0, lvl1 in gold_data.columns\n",
    "    ]"
   ]
  },
  {
   "cell_type": "code",
   "execution_count": 18,
   "id": "d765f23e",
   "metadata": {},
   "outputs": [],
   "source": [
    "#Preprocessing Data\n",
    "data = gold_data.copy().dropna()\n",
    "\n",
    "\n",
    "target_col = 'Close_GC=F'\n",
    "feature_col = data.columns # All the features including 'Close'\n",
    "scalar = MinMaxScaler()\n",
    "scaled = scalar.fit_transform(data[feature_col])\n",
    "\n",
    "seq_length = 60 # Past 60 days\n",
    "horizon = 1  # Predicting the next day\n"
   ]
  },
  {
   "cell_type": "code",
   "execution_count": 20,
   "id": "ff81089e",
   "metadata": {},
   "outputs": [
    {
     "data": {
      "text/plain": [
       "((2952, 60, 24), (2952,), (739, 60, 24), (739,))"
      ]
     },
     "execution_count": 20,
     "metadata": {},
     "output_type": "execute_result"
    }
   ],
   "source": [
    "def make_sequencs(arr, target_index, seq_len=60, horizon=1):\n",
    "    X, y = [], []\n",
    "    \n",
    "    for i in range(seq_len, len(arr)-horizon+1):\n",
    "        X.append(arr[i-seq_len:i,:])\n",
    "        y.append(arr[i + horizon -1, target_index])\n",
    "    return np.array(X), np.array(y)\n",
    "\n",
    "target_index = list(feature_col).index(target_col)\n",
    "X, y = make_sequencs(scaled, target_index, seq_length, horizon)\n",
    "\n",
    "# Train / Test Split (chromological)\n",
    "split = int(len(X) * 0.8)\n",
    "X_train, X_test = X[:split], X[split:]\n",
    "y_train, y_test = y[:split], y[split:]\n",
    "\n",
    "X_train.shape, y_train.shape, X_test.shape, y_test.shape"
   ]
  },
  {
   "cell_type": "markdown",
   "id": "d7bbadc7",
   "metadata": {},
   "source": [
    "Model 1: CNN -> LSTM"
   ]
  },
  {
   "cell_type": "code",
   "execution_count": 21,
   "id": "b09944b4",
   "metadata": {},
   "outputs": [
    {
     "name": "stderr",
     "output_type": "stream",
     "text": [
      "2025-08-24 09:45:32.788748: E external/local_xla/xla/stream_executor/cuda/cuda_platform.cc:51] failed call to cuInit: INTERNAL: CUDA error: Failed call to cuInit: UNKNOWN ERROR (303)\n"
     ]
    },
    {
     "data": {
      "text/html": [
       "<pre style=\"white-space:pre;overflow-x:auto;line-height:normal;font-family:Menlo,'DejaVu Sans Mono',consolas,'Courier New',monospace\"><span style=\"font-weight: bold\">Model: \"functional\"</span>\n",
       "</pre>\n"
      ],
      "text/plain": [
       "\u001b[1mModel: \"functional\"\u001b[0m\n"
      ]
     },
     "metadata": {},
     "output_type": "display_data"
    },
    {
     "data": {
      "text/html": [
       "<pre style=\"white-space:pre;overflow-x:auto;line-height:normal;font-family:Menlo,'DejaVu Sans Mono',consolas,'Courier New',monospace\">┏━━━━━━━━━━━━━━━━━━━━━━━━━━━━━━━━━┳━━━━━━━━━━━━━━━━━━━━━━━━┳━━━━━━━━━━━━━━━┓\n",
       "┃<span style=\"font-weight: bold\"> Layer (type)                    </span>┃<span style=\"font-weight: bold\"> Output Shape           </span>┃<span style=\"font-weight: bold\">       Param # </span>┃\n",
       "┡━━━━━━━━━━━━━━━━━━━━━━━━━━━━━━━━━╇━━━━━━━━━━━━━━━━━━━━━━━━╇━━━━━━━━━━━━━━━┩\n",
       "│ input_layer (<span style=\"color: #0087ff; text-decoration-color: #0087ff\">InputLayer</span>)        │ (<span style=\"color: #00d7ff; text-decoration-color: #00d7ff\">None</span>, <span style=\"color: #00af00; text-decoration-color: #00af00\">60</span>, <span style=\"color: #00af00; text-decoration-color: #00af00\">24</span>)         │             <span style=\"color: #00af00; text-decoration-color: #00af00\">0</span> │\n",
       "├─────────────────────────────────┼────────────────────────┼───────────────┤\n",
       "│ conv1d (<span style=\"color: #0087ff; text-decoration-color: #0087ff\">Conv1D</span>)                 │ (<span style=\"color: #00d7ff; text-decoration-color: #00d7ff\">None</span>, <span style=\"color: #00af00; text-decoration-color: #00af00\">60</span>, <span style=\"color: #00af00; text-decoration-color: #00af00\">64</span>)         │         <span style=\"color: #00af00; text-decoration-color: #00af00\">4,672</span> │\n",
       "├─────────────────────────────────┼────────────────────────┼───────────────┤\n",
       "│ conv1d_1 (<span style=\"color: #0087ff; text-decoration-color: #0087ff\">Conv1D</span>)               │ (<span style=\"color: #00d7ff; text-decoration-color: #00d7ff\">None</span>, <span style=\"color: #00af00; text-decoration-color: #00af00\">60</span>, <span style=\"color: #00af00; text-decoration-color: #00af00\">64</span>)         │        <span style=\"color: #00af00; text-decoration-color: #00af00\">12,352</span> │\n",
       "├─────────────────────────────────┼────────────────────────┼───────────────┤\n",
       "│ max_pooling1d (<span style=\"color: #0087ff; text-decoration-color: #0087ff\">MaxPooling1D</span>)    │ (<span style=\"color: #00d7ff; text-decoration-color: #00d7ff\">None</span>, <span style=\"color: #00af00; text-decoration-color: #00af00\">30</span>, <span style=\"color: #00af00; text-decoration-color: #00af00\">64</span>)         │             <span style=\"color: #00af00; text-decoration-color: #00af00\">0</span> │\n",
       "├─────────────────────────────────┼────────────────────────┼───────────────┤\n",
       "│ lstm (<span style=\"color: #0087ff; text-decoration-color: #0087ff\">LSTM</span>)                     │ (<span style=\"color: #00d7ff; text-decoration-color: #00d7ff\">None</span>, <span style=\"color: #00af00; text-decoration-color: #00af00\">64</span>)             │        <span style=\"color: #00af00; text-decoration-color: #00af00\">33,024</span> │\n",
       "├─────────────────────────────────┼────────────────────────┼───────────────┤\n",
       "│ dropout (<span style=\"color: #0087ff; text-decoration-color: #0087ff\">Dropout</span>)               │ (<span style=\"color: #00d7ff; text-decoration-color: #00d7ff\">None</span>, <span style=\"color: #00af00; text-decoration-color: #00af00\">64</span>)             │             <span style=\"color: #00af00; text-decoration-color: #00af00\">0</span> │\n",
       "├─────────────────────────────────┼────────────────────────┼───────────────┤\n",
       "│ dense (<span style=\"color: #0087ff; text-decoration-color: #0087ff\">Dense</span>)                   │ (<span style=\"color: #00d7ff; text-decoration-color: #00d7ff\">None</span>, <span style=\"color: #00af00; text-decoration-color: #00af00\">1</span>)              │            <span style=\"color: #00af00; text-decoration-color: #00af00\">65</span> │\n",
       "└─────────────────────────────────┴────────────────────────┴───────────────┘\n",
       "</pre>\n"
      ],
      "text/plain": [
       "┏━━━━━━━━━━━━━━━━━━━━━━━━━━━━━━━━━┳━━━━━━━━━━━━━━━━━━━━━━━━┳━━━━━━━━━━━━━━━┓\n",
       "┃\u001b[1m \u001b[0m\u001b[1mLayer (type)                   \u001b[0m\u001b[1m \u001b[0m┃\u001b[1m \u001b[0m\u001b[1mOutput Shape          \u001b[0m\u001b[1m \u001b[0m┃\u001b[1m \u001b[0m\u001b[1m      Param #\u001b[0m\u001b[1m \u001b[0m┃\n",
       "┡━━━━━━━━━━━━━━━━━━━━━━━━━━━━━━━━━╇━━━━━━━━━━━━━━━━━━━━━━━━╇━━━━━━━━━━━━━━━┩\n",
       "│ input_layer (\u001b[38;5;33mInputLayer\u001b[0m)        │ (\u001b[38;5;45mNone\u001b[0m, \u001b[38;5;34m60\u001b[0m, \u001b[38;5;34m24\u001b[0m)         │             \u001b[38;5;34m0\u001b[0m │\n",
       "├─────────────────────────────────┼────────────────────────┼───────────────┤\n",
       "│ conv1d (\u001b[38;5;33mConv1D\u001b[0m)                 │ (\u001b[38;5;45mNone\u001b[0m, \u001b[38;5;34m60\u001b[0m, \u001b[38;5;34m64\u001b[0m)         │         \u001b[38;5;34m4,672\u001b[0m │\n",
       "├─────────────────────────────────┼────────────────────────┼───────────────┤\n",
       "│ conv1d_1 (\u001b[38;5;33mConv1D\u001b[0m)               │ (\u001b[38;5;45mNone\u001b[0m, \u001b[38;5;34m60\u001b[0m, \u001b[38;5;34m64\u001b[0m)         │        \u001b[38;5;34m12,352\u001b[0m │\n",
       "├─────────────────────────────────┼────────────────────────┼───────────────┤\n",
       "│ max_pooling1d (\u001b[38;5;33mMaxPooling1D\u001b[0m)    │ (\u001b[38;5;45mNone\u001b[0m, \u001b[38;5;34m30\u001b[0m, \u001b[38;5;34m64\u001b[0m)         │             \u001b[38;5;34m0\u001b[0m │\n",
       "├─────────────────────────────────┼────────────────────────┼───────────────┤\n",
       "│ lstm (\u001b[38;5;33mLSTM\u001b[0m)                     │ (\u001b[38;5;45mNone\u001b[0m, \u001b[38;5;34m64\u001b[0m)             │        \u001b[38;5;34m33,024\u001b[0m │\n",
       "├─────────────────────────────────┼────────────────────────┼───────────────┤\n",
       "│ dropout (\u001b[38;5;33mDropout\u001b[0m)               │ (\u001b[38;5;45mNone\u001b[0m, \u001b[38;5;34m64\u001b[0m)             │             \u001b[38;5;34m0\u001b[0m │\n",
       "├─────────────────────────────────┼────────────────────────┼───────────────┤\n",
       "│ dense (\u001b[38;5;33mDense\u001b[0m)                   │ (\u001b[38;5;45mNone\u001b[0m, \u001b[38;5;34m1\u001b[0m)              │            \u001b[38;5;34m65\u001b[0m │\n",
       "└─────────────────────────────────┴────────────────────────┴───────────────┘\n"
      ]
     },
     "metadata": {},
     "output_type": "display_data"
    },
    {
     "data": {
      "text/html": [
       "<pre style=\"white-space:pre;overflow-x:auto;line-height:normal;font-family:Menlo,'DejaVu Sans Mono',consolas,'Courier New',monospace\"><span style=\"font-weight: bold\"> Total params: </span><span style=\"color: #00af00; text-decoration-color: #00af00\">50,113</span> (195.75 KB)\n",
       "</pre>\n"
      ],
      "text/plain": [
       "\u001b[1m Total params: \u001b[0m\u001b[38;5;34m50,113\u001b[0m (195.75 KB)\n"
      ]
     },
     "metadata": {},
     "output_type": "display_data"
    },
    {
     "data": {
      "text/html": [
       "<pre style=\"white-space:pre;overflow-x:auto;line-height:normal;font-family:Menlo,'DejaVu Sans Mono',consolas,'Courier New',monospace\"><span style=\"font-weight: bold\"> Trainable params: </span><span style=\"color: #00af00; text-decoration-color: #00af00\">50,113</span> (195.75 KB)\n",
       "</pre>\n"
      ],
      "text/plain": [
       "\u001b[1m Trainable params: \u001b[0m\u001b[38;5;34m50,113\u001b[0m (195.75 KB)\n"
      ]
     },
     "metadata": {},
     "output_type": "display_data"
    },
    {
     "data": {
      "text/html": [
       "<pre style=\"white-space:pre;overflow-x:auto;line-height:normal;font-family:Menlo,'DejaVu Sans Mono',consolas,'Courier New',monospace\"><span style=\"font-weight: bold\"> Non-trainable params: </span><span style=\"color: #00af00; text-decoration-color: #00af00\">0</span> (0.00 B)\n",
       "</pre>\n"
      ],
      "text/plain": [
       "\u001b[1m Non-trainable params: \u001b[0m\u001b[38;5;34m0\u001b[0m (0.00 B)\n"
      ]
     },
     "metadata": {},
     "output_type": "display_data"
    }
   ],
   "source": [
    "# CNN - LSTM\n",
    "\n",
    "def build_cnn_lstm(input_shape):\n",
    "    inp = layers.Input(shape=input_shape)\n",
    "    \n",
    "    #CNN\n",
    "    x = layers.Conv1D(filters=64, kernel_size=3, padding='causal', activation='relu')(inp)\n",
    "    x = layers.Conv1D(filters=64, kernel_size=3, padding='causal', activation='relu')(x)\n",
    "    x = layers.MaxPooling1D(pool_size=2)(x)\n",
    "    x = layers.LSTM(64, return_sequences=False)(x)\n",
    "    x = layers.Dropout(0.3)(x)\n",
    "    \n",
    "    out = layers.Dense(1, activation='linear')(x)\n",
    "    model = keras.Model(inputs=inp, outputs=out)\n",
    "    model.compile(optimizer='adam', loss='mse', metrics=['mae'])\n",
    "    return model\n",
    "\n",
    "model_cnn_lstm = build_cnn_lstm(X_train.shape[1:])\n",
    "model_cnn_lstm.summary()"
   ]
  },
  {
   "cell_type": "markdown",
   "id": "c815751d",
   "metadata": {},
   "source": [
    "Model 2: LSTM -> CNN (use LSTM features across time then temporal co"
   ]
  },
  {
   "cell_type": "code",
   "execution_count": 24,
   "id": "8a9c3304",
   "metadata": {},
   "outputs": [
    {
     "data": {
      "text/html": [
       "<pre style=\"white-space:pre;overflow-x:auto;line-height:normal;font-family:Menlo,'DejaVu Sans Mono',consolas,'Courier New',monospace\"><span style=\"font-weight: bold\">Model: \"functional_1\"</span>\n",
       "</pre>\n"
      ],
      "text/plain": [
       "\u001b[1mModel: \"functional_1\"\u001b[0m\n"
      ]
     },
     "metadata": {},
     "output_type": "display_data"
    },
    {
     "data": {
      "text/html": [
       "<pre style=\"white-space:pre;overflow-x:auto;line-height:normal;font-family:Menlo,'DejaVu Sans Mono',consolas,'Courier New',monospace\">┏━━━━━━━━━━━━━━━━━━━━━━━━━━━━━━━━━┳━━━━━━━━━━━━━━━━━━━━━━━━┳━━━━━━━━━━━━━━━┓\n",
       "┃<span style=\"font-weight: bold\"> Layer (type)                    </span>┃<span style=\"font-weight: bold\"> Output Shape           </span>┃<span style=\"font-weight: bold\">       Param # </span>┃\n",
       "┡━━━━━━━━━━━━━━━━━━━━━━━━━━━━━━━━━╇━━━━━━━━━━━━━━━━━━━━━━━━╇━━━━━━━━━━━━━━━┩\n",
       "│ input_layer_1 (<span style=\"color: #0087ff; text-decoration-color: #0087ff\">InputLayer</span>)      │ (<span style=\"color: #00d7ff; text-decoration-color: #00d7ff\">None</span>, <span style=\"color: #00af00; text-decoration-color: #00af00\">60</span>, <span style=\"color: #00af00; text-decoration-color: #00af00\">24</span>)         │             <span style=\"color: #00af00; text-decoration-color: #00af00\">0</span> │\n",
       "├─────────────────────────────────┼────────────────────────┼───────────────┤\n",
       "│ lstm_1 (<span style=\"color: #0087ff; text-decoration-color: #0087ff\">LSTM</span>)                   │ (<span style=\"color: #00d7ff; text-decoration-color: #00d7ff\">None</span>, <span style=\"color: #00af00; text-decoration-color: #00af00\">60</span>, <span style=\"color: #00af00; text-decoration-color: #00af00\">64</span>)         │        <span style=\"color: #00af00; text-decoration-color: #00af00\">22,784</span> │\n",
       "├─────────────────────────────────┼────────────────────────┼───────────────┤\n",
       "│ lstm_2 (<span style=\"color: #0087ff; text-decoration-color: #0087ff\">LSTM</span>)                   │ (<span style=\"color: #00d7ff; text-decoration-color: #00d7ff\">None</span>, <span style=\"color: #00af00; text-decoration-color: #00af00\">60</span>, <span style=\"color: #00af00; text-decoration-color: #00af00\">64</span>)         │        <span style=\"color: #00af00; text-decoration-color: #00af00\">33,024</span> │\n",
       "├─────────────────────────────────┼────────────────────────┼───────────────┤\n",
       "│ conv1d_2 (<span style=\"color: #0087ff; text-decoration-color: #0087ff\">Conv1D</span>)               │ (<span style=\"color: #00d7ff; text-decoration-color: #00d7ff\">None</span>, <span style=\"color: #00af00; text-decoration-color: #00af00\">60</span>, <span style=\"color: #00af00; text-decoration-color: #00af00\">64</span>)         │        <span style=\"color: #00af00; text-decoration-color: #00af00\">12,352</span> │\n",
       "├─────────────────────────────────┼────────────────────────┼───────────────┤\n",
       "│ global_average_pooling1d        │ (<span style=\"color: #00d7ff; text-decoration-color: #00d7ff\">None</span>, <span style=\"color: #00af00; text-decoration-color: #00af00\">64</span>)             │             <span style=\"color: #00af00; text-decoration-color: #00af00\">0</span> │\n",
       "│ (<span style=\"color: #0087ff; text-decoration-color: #0087ff\">GlobalAveragePooling1D</span>)        │                        │               │\n",
       "├─────────────────────────────────┼────────────────────────┼───────────────┤\n",
       "│ dropout_1 (<span style=\"color: #0087ff; text-decoration-color: #0087ff\">Dropout</span>)             │ (<span style=\"color: #00d7ff; text-decoration-color: #00d7ff\">None</span>, <span style=\"color: #00af00; text-decoration-color: #00af00\">64</span>)             │             <span style=\"color: #00af00; text-decoration-color: #00af00\">0</span> │\n",
       "├─────────────────────────────────┼────────────────────────┼───────────────┤\n",
       "│ dense_1 (<span style=\"color: #0087ff; text-decoration-color: #0087ff\">Dense</span>)                 │ (<span style=\"color: #00d7ff; text-decoration-color: #00d7ff\">None</span>, <span style=\"color: #00af00; text-decoration-color: #00af00\">1</span>)              │            <span style=\"color: #00af00; text-decoration-color: #00af00\">65</span> │\n",
       "└─────────────────────────────────┴────────────────────────┴───────────────┘\n",
       "</pre>\n"
      ],
      "text/plain": [
       "┏━━━━━━━━━━━━━━━━━━━━━━━━━━━━━━━━━┳━━━━━━━━━━━━━━━━━━━━━━━━┳━━━━━━━━━━━━━━━┓\n",
       "┃\u001b[1m \u001b[0m\u001b[1mLayer (type)                   \u001b[0m\u001b[1m \u001b[0m┃\u001b[1m \u001b[0m\u001b[1mOutput Shape          \u001b[0m\u001b[1m \u001b[0m┃\u001b[1m \u001b[0m\u001b[1m      Param #\u001b[0m\u001b[1m \u001b[0m┃\n",
       "┡━━━━━━━━━━━━━━━━━━━━━━━━━━━━━━━━━╇━━━━━━━━━━━━━━━━━━━━━━━━╇━━━━━━━━━━━━━━━┩\n",
       "│ input_layer_1 (\u001b[38;5;33mInputLayer\u001b[0m)      │ (\u001b[38;5;45mNone\u001b[0m, \u001b[38;5;34m60\u001b[0m, \u001b[38;5;34m24\u001b[0m)         │             \u001b[38;5;34m0\u001b[0m │\n",
       "├─────────────────────────────────┼────────────────────────┼───────────────┤\n",
       "│ lstm_1 (\u001b[38;5;33mLSTM\u001b[0m)                   │ (\u001b[38;5;45mNone\u001b[0m, \u001b[38;5;34m60\u001b[0m, \u001b[38;5;34m64\u001b[0m)         │        \u001b[38;5;34m22,784\u001b[0m │\n",
       "├─────────────────────────────────┼────────────────────────┼───────────────┤\n",
       "│ lstm_2 (\u001b[38;5;33mLSTM\u001b[0m)                   │ (\u001b[38;5;45mNone\u001b[0m, \u001b[38;5;34m60\u001b[0m, \u001b[38;5;34m64\u001b[0m)         │        \u001b[38;5;34m33,024\u001b[0m │\n",
       "├─────────────────────────────────┼────────────────────────┼───────────────┤\n",
       "│ conv1d_2 (\u001b[38;5;33mConv1D\u001b[0m)               │ (\u001b[38;5;45mNone\u001b[0m, \u001b[38;5;34m60\u001b[0m, \u001b[38;5;34m64\u001b[0m)         │        \u001b[38;5;34m12,352\u001b[0m │\n",
       "├─────────────────────────────────┼────────────────────────┼───────────────┤\n",
       "│ global_average_pooling1d        │ (\u001b[38;5;45mNone\u001b[0m, \u001b[38;5;34m64\u001b[0m)             │             \u001b[38;5;34m0\u001b[0m │\n",
       "│ (\u001b[38;5;33mGlobalAveragePooling1D\u001b[0m)        │                        │               │\n",
       "├─────────────────────────────────┼────────────────────────┼───────────────┤\n",
       "│ dropout_1 (\u001b[38;5;33mDropout\u001b[0m)             │ (\u001b[38;5;45mNone\u001b[0m, \u001b[38;5;34m64\u001b[0m)             │             \u001b[38;5;34m0\u001b[0m │\n",
       "├─────────────────────────────────┼────────────────────────┼───────────────┤\n",
       "│ dense_1 (\u001b[38;5;33mDense\u001b[0m)                 │ (\u001b[38;5;45mNone\u001b[0m, \u001b[38;5;34m1\u001b[0m)              │            \u001b[38;5;34m65\u001b[0m │\n",
       "└─────────────────────────────────┴────────────────────────┴───────────────┘\n"
      ]
     },
     "metadata": {},
     "output_type": "display_data"
    },
    {
     "data": {
      "text/html": [
       "<pre style=\"white-space:pre;overflow-x:auto;line-height:normal;font-family:Menlo,'DejaVu Sans Mono',consolas,'Courier New',monospace\"><span style=\"font-weight: bold\"> Total params: </span><span style=\"color: #00af00; text-decoration-color: #00af00\">68,225</span> (266.50 KB)\n",
       "</pre>\n"
      ],
      "text/plain": [
       "\u001b[1m Total params: \u001b[0m\u001b[38;5;34m68,225\u001b[0m (266.50 KB)\n"
      ]
     },
     "metadata": {},
     "output_type": "display_data"
    },
    {
     "data": {
      "text/html": [
       "<pre style=\"white-space:pre;overflow-x:auto;line-height:normal;font-family:Menlo,'DejaVu Sans Mono',consolas,'Courier New',monospace\"><span style=\"font-weight: bold\"> Trainable params: </span><span style=\"color: #00af00; text-decoration-color: #00af00\">68,225</span> (266.50 KB)\n",
       "</pre>\n"
      ],
      "text/plain": [
       "\u001b[1m Trainable params: \u001b[0m\u001b[38;5;34m68,225\u001b[0m (266.50 KB)\n"
      ]
     },
     "metadata": {},
     "output_type": "display_data"
    },
    {
     "data": {
      "text/html": [
       "<pre style=\"white-space:pre;overflow-x:auto;line-height:normal;font-family:Menlo,'DejaVu Sans Mono',consolas,'Courier New',monospace\"><span style=\"font-weight: bold\"> Non-trainable params: </span><span style=\"color: #00af00; text-decoration-color: #00af00\">0</span> (0.00 B)\n",
       "</pre>\n"
      ],
      "text/plain": [
       "\u001b[1m Non-trainable params: \u001b[0m\u001b[38;5;34m0\u001b[0m (0.00 B)\n"
      ]
     },
     "metadata": {},
     "output_type": "display_data"
    }
   ],
   "source": [
    "# LSTM - CNN\n",
    "\n",
    "def build_lstm_cnn(input_shape):\n",
    "    \n",
    "    inp = layers.Input(shape=input_shape)\n",
    "    \n",
    "    # LSTM\n",
    "    x = layers.LSTM(units=64, return_sequences=True)(inp)\n",
    "    x = layers.LSTM(units=64, return_sequences=True)(x)\n",
    "    # 1D conv across the sequentce of LSTM hidden states\n",
    "    x = layers.Conv1D(filters=64, kernel_size=3, padding='same', activation='relu')(x)\n",
    "    x = layers.GlobalAveragePooling1D()(x)\n",
    "    x = layers.Dropout(0.3)(x)\n",
    "    \n",
    "    out = layers.Dense(1, activation='linear')(x)\n",
    "    model = keras.Model(inputs=inp, outputs=out)\n",
    "    model.compile(optimizer='adam', loss='mse', metrics=['mae'])\n",
    "    \n",
    "    return model\n",
    "\n",
    "model_lstm_cnn = build_lstm_cnn(X_train.shape[1:])\n",
    "model_lstm_cnn.summary()"
   ]
  },
  {
   "cell_type": "markdown",
   "id": "8a5d729c",
   "metadata": {},
   "source": [
    "Model 3: Parallel CNN and LSTM branches"
   ]
  },
  {
   "cell_type": "code",
   "execution_count": 28,
   "id": "84b34cdc",
   "metadata": {},
   "outputs": [
    {
     "data": {
      "text/html": [
       "<pre style=\"white-space:pre;overflow-x:auto;line-height:normal;font-family:Menlo,'DejaVu Sans Mono',consolas,'Courier New',monospace\"><span style=\"font-weight: bold\">Model: \"functional_3\"</span>\n",
       "</pre>\n"
      ],
      "text/plain": [
       "\u001b[1mModel: \"functional_3\"\u001b[0m\n"
      ]
     },
     "metadata": {},
     "output_type": "display_data"
    },
    {
     "data": {
      "text/html": [
       "<pre style=\"white-space:pre;overflow-x:auto;line-height:normal;font-family:Menlo,'DejaVu Sans Mono',consolas,'Courier New',monospace\">┏━━━━━━━━━━━━━━━━━━━━━┳━━━━━━━━━━━━━━━━━━━┳━━━━━━━━━━━━┳━━━━━━━━━━━━━━━━━━━┓\n",
       "┃<span style=\"font-weight: bold\"> Layer (type)        </span>┃<span style=\"font-weight: bold\"> Output Shape      </span>┃<span style=\"font-weight: bold\">    Param # </span>┃<span style=\"font-weight: bold\"> Connected to      </span>┃\n",
       "┡━━━━━━━━━━━━━━━━━━━━━╇━━━━━━━━━━━━━━━━━━━╇━━━━━━━━━━━━╇━━━━━━━━━━━━━━━━━━━┩\n",
       "│ input_layer_5       │ (<span style=\"color: #00d7ff; text-decoration-color: #00d7ff\">None</span>, <span style=\"color: #00af00; text-decoration-color: #00af00\">60</span>, <span style=\"color: #00af00; text-decoration-color: #00af00\">24</span>)    │          <span style=\"color: #00af00; text-decoration-color: #00af00\">0</span> │ -                 │\n",
       "│ (<span style=\"color: #0087ff; text-decoration-color: #0087ff\">InputLayer</span>)        │                   │            │                   │\n",
       "├─────────────────────┼───────────────────┼────────────┼───────────────────┤\n",
       "│ conv1d_9 (<span style=\"color: #0087ff; text-decoration-color: #0087ff\">Conv1D</span>)   │ (<span style=\"color: #00d7ff; text-decoration-color: #00d7ff\">None</span>, <span style=\"color: #00af00; text-decoration-color: #00af00\">60</span>, <span style=\"color: #00af00; text-decoration-color: #00af00\">64</span>)    │      <span style=\"color: #00af00; text-decoration-color: #00af00\">4,672</span> │ input_layer_5[<span style=\"color: #00af00; text-decoration-color: #00af00\">0</span>]… │\n",
       "├─────────────────────┼───────────────────┼────────────┼───────────────────┤\n",
       "│ conv1d_10 (<span style=\"color: #0087ff; text-decoration-color: #0087ff\">Conv1D</span>)  │ (<span style=\"color: #00d7ff; text-decoration-color: #00d7ff\">None</span>, <span style=\"color: #00af00; text-decoration-color: #00af00\">60</span>, <span style=\"color: #00af00; text-decoration-color: #00af00\">64</span>)    │     <span style=\"color: #00af00; text-decoration-color: #00af00\">12,352</span> │ conv1d_9[<span style=\"color: #00af00; text-decoration-color: #00af00\">0</span>][<span style=\"color: #00af00; text-decoration-color: #00af00\">0</span>]    │\n",
       "├─────────────────────┼───────────────────┼────────────┼───────────────────┤\n",
       "│ lstm_9 (<span style=\"color: #0087ff; text-decoration-color: #0087ff\">LSTM</span>)       │ (<span style=\"color: #00d7ff; text-decoration-color: #00d7ff\">None</span>, <span style=\"color: #00af00; text-decoration-color: #00af00\">60</span>, <span style=\"color: #00af00; text-decoration-color: #00af00\">64</span>)    │     <span style=\"color: #00af00; text-decoration-color: #00af00\">22,784</span> │ input_layer_5[<span style=\"color: #00af00; text-decoration-color: #00af00\">0</span>]… │\n",
       "├─────────────────────┼───────────────────┼────────────┼───────────────────┤\n",
       "│ global_average_poo… │ (<span style=\"color: #00d7ff; text-decoration-color: #00d7ff\">None</span>, <span style=\"color: #00af00; text-decoration-color: #00af00\">64</span>)        │          <span style=\"color: #00af00; text-decoration-color: #00af00\">0</span> │ conv1d_10[<span style=\"color: #00af00; text-decoration-color: #00af00\">0</span>][<span style=\"color: #00af00; text-decoration-color: #00af00\">0</span>]   │\n",
       "│ (<span style=\"color: #0087ff; text-decoration-color: #0087ff\">GlobalAveragePool…</span> │                   │            │                   │\n",
       "├─────────────────────┼───────────────────┼────────────┼───────────────────┤\n",
       "│ lstm_10 (<span style=\"color: #0087ff; text-decoration-color: #0087ff\">LSTM</span>)      │ (<span style=\"color: #00d7ff; text-decoration-color: #00d7ff\">None</span>, <span style=\"color: #00af00; text-decoration-color: #00af00\">32</span>)        │     <span style=\"color: #00af00; text-decoration-color: #00af00\">12,416</span> │ lstm_9[<span style=\"color: #00af00; text-decoration-color: #00af00\">0</span>][<span style=\"color: #00af00; text-decoration-color: #00af00\">0</span>]      │\n",
       "├─────────────────────┼───────────────────┼────────────┼───────────────────┤\n",
       "│ concatenate_3       │ (<span style=\"color: #00d7ff; text-decoration-color: #00d7ff\">None</span>, <span style=\"color: #00af00; text-decoration-color: #00af00\">96</span>)        │          <span style=\"color: #00af00; text-decoration-color: #00af00\">0</span> │ global_average_p… │\n",
       "│ (<span style=\"color: #0087ff; text-decoration-color: #0087ff\">Concatenate</span>)       │                   │            │ lstm_10[<span style=\"color: #00af00; text-decoration-color: #00af00\">0</span>][<span style=\"color: #00af00; text-decoration-color: #00af00\">0</span>]     │\n",
       "├─────────────────────┼───────────────────┼────────────┼───────────────────┤\n",
       "│ dense_6 (<span style=\"color: #0087ff; text-decoration-color: #0087ff\">Dense</span>)     │ (<span style=\"color: #00d7ff; text-decoration-color: #00d7ff\">None</span>, <span style=\"color: #00af00; text-decoration-color: #00af00\">64</span>)        │      <span style=\"color: #00af00; text-decoration-color: #00af00\">6,208</span> │ concatenate_3[<span style=\"color: #00af00; text-decoration-color: #00af00\">0</span>]… │\n",
       "├─────────────────────┼───────────────────┼────────────┼───────────────────┤\n",
       "│ dropout_3 (<span style=\"color: #0087ff; text-decoration-color: #0087ff\">Dropout</span>) │ (<span style=\"color: #00d7ff; text-decoration-color: #00d7ff\">None</span>, <span style=\"color: #00af00; text-decoration-color: #00af00\">64</span>)        │          <span style=\"color: #00af00; text-decoration-color: #00af00\">0</span> │ dense_6[<span style=\"color: #00af00; text-decoration-color: #00af00\">0</span>][<span style=\"color: #00af00; text-decoration-color: #00af00\">0</span>]     │\n",
       "├─────────────────────┼───────────────────┼────────────┼───────────────────┤\n",
       "│ dense_7 (<span style=\"color: #0087ff; text-decoration-color: #0087ff\">Dense</span>)     │ (<span style=\"color: #00d7ff; text-decoration-color: #00d7ff\">None</span>, <span style=\"color: #00af00; text-decoration-color: #00af00\">1</span>)         │         <span style=\"color: #00af00; text-decoration-color: #00af00\">65</span> │ dropout_3[<span style=\"color: #00af00; text-decoration-color: #00af00\">0</span>][<span style=\"color: #00af00; text-decoration-color: #00af00\">0</span>]   │\n",
       "└─────────────────────┴───────────────────┴────────────┴───────────────────┘\n",
       "</pre>\n"
      ],
      "text/plain": [
       "┏━━━━━━━━━━━━━━━━━━━━━┳━━━━━━━━━━━━━━━━━━━┳━━━━━━━━━━━━┳━━━━━━━━━━━━━━━━━━━┓\n",
       "┃\u001b[1m \u001b[0m\u001b[1mLayer (type)       \u001b[0m\u001b[1m \u001b[0m┃\u001b[1m \u001b[0m\u001b[1mOutput Shape     \u001b[0m\u001b[1m \u001b[0m┃\u001b[1m \u001b[0m\u001b[1m   Param #\u001b[0m\u001b[1m \u001b[0m┃\u001b[1m \u001b[0m\u001b[1mConnected to     \u001b[0m\u001b[1m \u001b[0m┃\n",
       "┡━━━━━━━━━━━━━━━━━━━━━╇━━━━━━━━━━━━━━━━━━━╇━━━━━━━━━━━━╇━━━━━━━━━━━━━━━━━━━┩\n",
       "│ input_layer_5       │ (\u001b[38;5;45mNone\u001b[0m, \u001b[38;5;34m60\u001b[0m, \u001b[38;5;34m24\u001b[0m)    │          \u001b[38;5;34m0\u001b[0m │ -                 │\n",
       "│ (\u001b[38;5;33mInputLayer\u001b[0m)        │                   │            │                   │\n",
       "├─────────────────────┼───────────────────┼────────────┼───────────────────┤\n",
       "│ conv1d_9 (\u001b[38;5;33mConv1D\u001b[0m)   │ (\u001b[38;5;45mNone\u001b[0m, \u001b[38;5;34m60\u001b[0m, \u001b[38;5;34m64\u001b[0m)    │      \u001b[38;5;34m4,672\u001b[0m │ input_layer_5[\u001b[38;5;34m0\u001b[0m]… │\n",
       "├─────────────────────┼───────────────────┼────────────┼───────────────────┤\n",
       "│ conv1d_10 (\u001b[38;5;33mConv1D\u001b[0m)  │ (\u001b[38;5;45mNone\u001b[0m, \u001b[38;5;34m60\u001b[0m, \u001b[38;5;34m64\u001b[0m)    │     \u001b[38;5;34m12,352\u001b[0m │ conv1d_9[\u001b[38;5;34m0\u001b[0m][\u001b[38;5;34m0\u001b[0m]    │\n",
       "├─────────────────────┼───────────────────┼────────────┼───────────────────┤\n",
       "│ lstm_9 (\u001b[38;5;33mLSTM\u001b[0m)       │ (\u001b[38;5;45mNone\u001b[0m, \u001b[38;5;34m60\u001b[0m, \u001b[38;5;34m64\u001b[0m)    │     \u001b[38;5;34m22,784\u001b[0m │ input_layer_5[\u001b[38;5;34m0\u001b[0m]… │\n",
       "├─────────────────────┼───────────────────┼────────────┼───────────────────┤\n",
       "│ global_average_poo… │ (\u001b[38;5;45mNone\u001b[0m, \u001b[38;5;34m64\u001b[0m)        │          \u001b[38;5;34m0\u001b[0m │ conv1d_10[\u001b[38;5;34m0\u001b[0m][\u001b[38;5;34m0\u001b[0m]   │\n",
       "│ (\u001b[38;5;33mGlobalAveragePool…\u001b[0m │                   │            │                   │\n",
       "├─────────────────────┼───────────────────┼────────────┼───────────────────┤\n",
       "│ lstm_10 (\u001b[38;5;33mLSTM\u001b[0m)      │ (\u001b[38;5;45mNone\u001b[0m, \u001b[38;5;34m32\u001b[0m)        │     \u001b[38;5;34m12,416\u001b[0m │ lstm_9[\u001b[38;5;34m0\u001b[0m][\u001b[38;5;34m0\u001b[0m]      │\n",
       "├─────────────────────┼───────────────────┼────────────┼───────────────────┤\n",
       "│ concatenate_3       │ (\u001b[38;5;45mNone\u001b[0m, \u001b[38;5;34m96\u001b[0m)        │          \u001b[38;5;34m0\u001b[0m │ global_average_p… │\n",
       "│ (\u001b[38;5;33mConcatenate\u001b[0m)       │                   │            │ lstm_10[\u001b[38;5;34m0\u001b[0m][\u001b[38;5;34m0\u001b[0m]     │\n",
       "├─────────────────────┼───────────────────┼────────────┼───────────────────┤\n",
       "│ dense_6 (\u001b[38;5;33mDense\u001b[0m)     │ (\u001b[38;5;45mNone\u001b[0m, \u001b[38;5;34m64\u001b[0m)        │      \u001b[38;5;34m6,208\u001b[0m │ concatenate_3[\u001b[38;5;34m0\u001b[0m]… │\n",
       "├─────────────────────┼───────────────────┼────────────┼───────────────────┤\n",
       "│ dropout_3 (\u001b[38;5;33mDropout\u001b[0m) │ (\u001b[38;5;45mNone\u001b[0m, \u001b[38;5;34m64\u001b[0m)        │          \u001b[38;5;34m0\u001b[0m │ dense_6[\u001b[38;5;34m0\u001b[0m][\u001b[38;5;34m0\u001b[0m]     │\n",
       "├─────────────────────┼───────────────────┼────────────┼───────────────────┤\n",
       "│ dense_7 (\u001b[38;5;33mDense\u001b[0m)     │ (\u001b[38;5;45mNone\u001b[0m, \u001b[38;5;34m1\u001b[0m)         │         \u001b[38;5;34m65\u001b[0m │ dropout_3[\u001b[38;5;34m0\u001b[0m][\u001b[38;5;34m0\u001b[0m]   │\n",
       "└─────────────────────┴───────────────────┴────────────┴───────────────────┘\n"
      ]
     },
     "metadata": {},
     "output_type": "display_data"
    },
    {
     "data": {
      "text/html": [
       "<pre style=\"white-space:pre;overflow-x:auto;line-height:normal;font-family:Menlo,'DejaVu Sans Mono',consolas,'Courier New',monospace\"><span style=\"font-weight: bold\"> Total params: </span><span style=\"color: #00af00; text-decoration-color: #00af00\">58,497</span> (228.50 KB)\n",
       "</pre>\n"
      ],
      "text/plain": [
       "\u001b[1m Total params: \u001b[0m\u001b[38;5;34m58,497\u001b[0m (228.50 KB)\n"
      ]
     },
     "metadata": {},
     "output_type": "display_data"
    },
    {
     "data": {
      "text/html": [
       "<pre style=\"white-space:pre;overflow-x:auto;line-height:normal;font-family:Menlo,'DejaVu Sans Mono',consolas,'Courier New',monospace\"><span style=\"font-weight: bold\"> Trainable params: </span><span style=\"color: #00af00; text-decoration-color: #00af00\">58,497</span> (228.50 KB)\n",
       "</pre>\n"
      ],
      "text/plain": [
       "\u001b[1m Trainable params: \u001b[0m\u001b[38;5;34m58,497\u001b[0m (228.50 KB)\n"
      ]
     },
     "metadata": {},
     "output_type": "display_data"
    },
    {
     "data": {
      "text/html": [
       "<pre style=\"white-space:pre;overflow-x:auto;line-height:normal;font-family:Menlo,'DejaVu Sans Mono',consolas,'Courier New',monospace\"><span style=\"font-weight: bold\"> Non-trainable params: </span><span style=\"color: #00af00; text-decoration-color: #00af00\">0</span> (0.00 B)\n",
       "</pre>\n"
      ],
      "text/plain": [
       "\u001b[1m Non-trainable params: \u001b[0m\u001b[38;5;34m0\u001b[0m (0.00 B)\n"
      ]
     },
     "metadata": {},
     "output_type": "display_data"
    }
   ],
   "source": [
    "# CNN + LSTM Parallel\n",
    "\n",
    "def build_parallel_cnn_lstm(input_shape):\n",
    "    inp = layers.Input(shape=input_shape)\n",
    "    # CNN Branch\n",
    "    c = layers.Conv1D(64, 3, padding='causal', activation='relu')(inp)\n",
    "    c = layers.Conv1D(64, 3, padding='causal', activation='relu')(c)\n",
    "    c = layers.GlobalAveragePooling1D()(c)\n",
    "    # LSTM Branch\n",
    "    l = layers.LSTM(64, return_sequences=True)(inp)  # noqa: E741\n",
    "    l = layers.LSTM(32)(l)  # noqa: E741\n",
    "    # Merge (correct usage)\n",
    "    x = layers.Concatenate()([c, l])\n",
    "    x = layers.Dense(64, activation='relu')(x)\n",
    "    x = layers.Dropout(0.3)(x)\n",
    "    out = layers.Dense(1, activation='linear')(x)\n",
    "    model = keras.Model(inputs=inp, outputs=out)\n",
    "    model.compile(optimizer='adam', loss='mse', metrics=['mae'])\n",
    "    return model\n",
    "\n",
    "model_parallel = build_parallel_cnn_lstm(X_train.shape[1:])\n",
    "model_parallel.summary()\n",
    "    \n",
    "    "
   ]
  },
  {
   "cell_type": "markdown",
   "id": "46d55f62",
   "metadata": {},
   "source": [
    "Training (shared settings)"
   ]
  },
  {
   "cell_type": "code",
   "execution_count": 29,
   "id": "7a79dd5a",
   "metadata": {},
   "outputs": [],
   "source": [
    "callbacks = [\n",
    "    keras.callbacks.EarlyStopping(patience=8, restore_best_weights=True),\n",
    "    keras.callbacks.ReduceLROnPlateau(patience=4, factor=0.5, min_lr=1e-5)\n",
    "]\n",
    "\n",
    "batch_size = 64\n",
    "epochs = 50"
   ]
  },
  {
   "cell_type": "code",
   "execution_count": 30,
   "id": "ee652973",
   "metadata": {},
   "outputs": [
    {
     "name": "stdout",
     "output_type": "stream",
     "text": [
      "Epoch 1/50\n",
      "\u001b[1m42/42\u001b[0m \u001b[32m━━━━━━━━━━━━━━━━━━━━\u001b[0m\u001b[37m\u001b[0m \u001b[1m3s\u001b[0m 25ms/step - loss: 0.0055 - mae: 0.0508 - val_loss: 6.8023e-04 - val_mae: 0.0217 - learning_rate: 0.0010\n",
      "Epoch 2/50\n",
      "\u001b[1m42/42\u001b[0m \u001b[32m━━━━━━━━━━━━━━━━━━━━\u001b[0m\u001b[37m\u001b[0m \u001b[1m1s\u001b[0m 18ms/step - loss: 0.0012 - mae: 0.0255 - val_loss: 0.0016 - val_mae: 0.0362 - learning_rate: 0.0010\n",
      "Epoch 3/50\n",
      "\u001b[1m42/42\u001b[0m \u001b[32m━━━━━━━━━━━━━━━━━━━━\u001b[0m\u001b[37m\u001b[0m \u001b[1m1s\u001b[0m 20ms/step - loss: 9.1363e-04 - mae: 0.0221 - val_loss: 5.6289e-04 - val_mae: 0.0193 - learning_rate: 0.0010\n",
      "Epoch 4/50\n",
      "\u001b[1m42/42\u001b[0m \u001b[32m━━━━━━━━━━━━━━━━━━━━\u001b[0m\u001b[37m\u001b[0m \u001b[1m1s\u001b[0m 16ms/step - loss: 7.9025e-04 - mae: 0.0206 - val_loss: 0.0015 - val_mae: 0.0355 - learning_rate: 0.0010\n",
      "Epoch 5/50\n",
      "\u001b[1m42/42\u001b[0m \u001b[32m━━━━━━━━━━━━━━━━━━━━\u001b[0m\u001b[37m\u001b[0m \u001b[1m1s\u001b[0m 16ms/step - loss: 7.7325e-04 - mae: 0.0203 - val_loss: 4.6577e-04 - val_mae: 0.0165 - learning_rate: 0.0010\n",
      "Epoch 6/50\n",
      "\u001b[1m42/42\u001b[0m \u001b[32m━━━━━━━━━━━━━━━━━━━━\u001b[0m\u001b[37m\u001b[0m \u001b[1m1s\u001b[0m 17ms/step - loss: 7.7207e-04 - mae: 0.0202 - val_loss: 6.9618e-04 - val_mae: 0.0220 - learning_rate: 0.0010\n",
      "Epoch 7/50\n",
      "\u001b[1m42/42\u001b[0m \u001b[32m━━━━━━━━━━━━━━━━━━━━\u001b[0m\u001b[37m\u001b[0m \u001b[1m1s\u001b[0m 16ms/step - loss: 6.6324e-04 - mae: 0.0187 - val_loss: 4.2472e-04 - val_mae: 0.0158 - learning_rate: 0.0010\n",
      "Epoch 8/50\n",
      "\u001b[1m42/42\u001b[0m \u001b[32m━━━━━━━━━━━━━━━━━━━━\u001b[0m\u001b[37m\u001b[0m \u001b[1m1s\u001b[0m 16ms/step - loss: 6.8413e-04 - mae: 0.0187 - val_loss: 3.4002e-04 - val_mae: 0.0143 - learning_rate: 0.0010\n",
      "Epoch 9/50\n",
      "\u001b[1m42/42\u001b[0m \u001b[32m━━━━━━━━━━━━━━━━━━━━\u001b[0m\u001b[37m\u001b[0m \u001b[1m1s\u001b[0m 16ms/step - loss: 5.5201e-04 - mae: 0.0170 - val_loss: 3.2640e-04 - val_mae: 0.0139 - learning_rate: 0.0010\n",
      "Epoch 10/50\n",
      "\u001b[1m42/42\u001b[0m \u001b[32m━━━━━━━━━━━━━━━━━━━━\u001b[0m\u001b[37m\u001b[0m \u001b[1m1s\u001b[0m 18ms/step - loss: 6.3468e-04 - mae: 0.0179 - val_loss: 2.1950e-04 - val_mae: 0.0115 - learning_rate: 0.0010\n",
      "Epoch 11/50\n",
      "\u001b[1m42/42\u001b[0m \u001b[32m━━━━━━━━━━━━━━━━━━━━\u001b[0m\u001b[37m\u001b[0m \u001b[1m1s\u001b[0m 16ms/step - loss: 6.2390e-04 - mae: 0.0179 - val_loss: 4.2033e-04 - val_mae: 0.0165 - learning_rate: 0.0010\n",
      "Epoch 12/50\n",
      "\u001b[1m42/42\u001b[0m \u001b[32m━━━━━━━━━━━━━━━━━━━━\u001b[0m\u001b[37m\u001b[0m \u001b[1m1s\u001b[0m 19ms/step - loss: 5.2757e-04 - mae: 0.0164 - val_loss: 9.1697e-04 - val_mae: 0.0271 - learning_rate: 0.0010\n",
      "Epoch 13/50\n",
      "\u001b[1m42/42\u001b[0m \u001b[32m━━━━━━━━━━━━━━━━━━━━\u001b[0m\u001b[37m\u001b[0m \u001b[1m1s\u001b[0m 17ms/step - loss: 5.0181e-04 - mae: 0.0160 - val_loss: 2.4062e-04 - val_mae: 0.0117 - learning_rate: 0.0010\n",
      "Epoch 14/50\n",
      "\u001b[1m42/42\u001b[0m \u001b[32m━━━━━━━━━━━━━━━━━━━━\u001b[0m\u001b[37m\u001b[0m \u001b[1m1s\u001b[0m 17ms/step - loss: 4.5679e-04 - mae: 0.0152 - val_loss: 2.5879e-04 - val_mae: 0.0122 - learning_rate: 0.0010\n",
      "Epoch 15/50\n",
      "\u001b[1m42/42\u001b[0m \u001b[32m━━━━━━━━━━━━━━━━━━━━\u001b[0m\u001b[37m\u001b[0m \u001b[1m1s\u001b[0m 17ms/step - loss: 4.8917e-04 - mae: 0.0155 - val_loss: 5.0344e-04 - val_mae: 0.0187 - learning_rate: 5.0000e-04\n",
      "Epoch 16/50\n",
      "\u001b[1m42/42\u001b[0m \u001b[32m━━━━━━━━━━━━━━━━━━━━\u001b[0m\u001b[37m\u001b[0m \u001b[1m1s\u001b[0m 17ms/step - loss: 4.4163e-04 - mae: 0.0148 - val_loss: 3.2523e-04 - val_mae: 0.0143 - learning_rate: 5.0000e-04\n",
      "Epoch 17/50\n",
      "\u001b[1m42/42\u001b[0m \u001b[32m━━━━━━━━━━━━━━━━━━━━\u001b[0m\u001b[37m\u001b[0m \u001b[1m1s\u001b[0m 18ms/step - loss: 4.6421e-04 - mae: 0.0151 - val_loss: 3.9021e-04 - val_mae: 0.0159 - learning_rate: 5.0000e-04\n",
      "Epoch 18/50\n",
      "\u001b[1m42/42\u001b[0m \u001b[32m━━━━━━━━━━━━━━━━━━━━\u001b[0m\u001b[37m\u001b[0m \u001b[1m1s\u001b[0m 16ms/step - loss: 4.2513e-04 - mae: 0.0146 - val_loss: 1.8778e-04 - val_mae: 0.0107 - learning_rate: 5.0000e-04\n",
      "Epoch 19/50\n",
      "\u001b[1m42/42\u001b[0m \u001b[32m━━━━━━━━━━━━━━━━━━━━\u001b[0m\u001b[37m\u001b[0m \u001b[1m1s\u001b[0m 17ms/step - loss: 3.9934e-04 - mae: 0.0142 - val_loss: 1.8350e-04 - val_mae: 0.0107 - learning_rate: 2.5000e-04\n",
      "Epoch 20/50\n",
      "\u001b[1m42/42\u001b[0m \u001b[32m━━━━━━━━━━━━━━━━━━━━\u001b[0m\u001b[37m\u001b[0m \u001b[1m1s\u001b[0m 16ms/step - loss: 4.1789e-04 - mae: 0.0142 - val_loss: 2.0540e-04 - val_mae: 0.0108 - learning_rate: 2.5000e-04\n",
      "Epoch 21/50\n",
      "\u001b[1m42/42\u001b[0m \u001b[32m━━━━━━━━━━━━━━━━━━━━\u001b[0m\u001b[37m\u001b[0m \u001b[1m1s\u001b[0m 18ms/step - loss: 4.0725e-04 - mae: 0.0141 - val_loss: 2.1771e-04 - val_mae: 0.0112 - learning_rate: 2.5000e-04\n",
      "Epoch 22/50\n",
      "\u001b[1m42/42\u001b[0m \u001b[32m━━━━━━━━━━━━━━━━━━━━\u001b[0m\u001b[37m\u001b[0m \u001b[1m1s\u001b[0m 17ms/step - loss: 3.9315e-04 - mae: 0.0141 - val_loss: 3.3456e-04 - val_mae: 0.0147 - learning_rate: 2.5000e-04\n",
      "Epoch 23/50\n",
      "\u001b[1m42/42\u001b[0m \u001b[32m━━━━━━━━━━━━━━━━━━━━\u001b[0m\u001b[37m\u001b[0m \u001b[1m1s\u001b[0m 17ms/step - loss: 3.6773e-04 - mae: 0.0135 - val_loss: 2.8254e-04 - val_mae: 0.0132 - learning_rate: 1.2500e-04\n",
      "Epoch 24/50\n",
      "\u001b[1m42/42\u001b[0m \u001b[32m━━━━━━━━━━━━━━━━━━━━\u001b[0m\u001b[37m\u001b[0m \u001b[1m1s\u001b[0m 16ms/step - loss: 3.8797e-04 - mae: 0.0136 - val_loss: 2.9899e-04 - val_mae: 0.0136 - learning_rate: 1.2500e-04\n",
      "Epoch 25/50\n",
      "\u001b[1m42/42\u001b[0m \u001b[32m━━━━━━━━━━━━━━━━━━━━\u001b[0m\u001b[37m\u001b[0m \u001b[1m1s\u001b[0m 16ms/step - loss: 3.7453e-04 - mae: 0.0136 - val_loss: 3.8796e-04 - val_mae: 0.0161 - learning_rate: 1.2500e-04\n",
      "Epoch 26/50\n",
      "\u001b[1m42/42\u001b[0m \u001b[32m━━━━━━━━━━━━━━━━━━━━\u001b[0m\u001b[37m\u001b[0m \u001b[1m1s\u001b[0m 16ms/step - loss: 3.5065e-04 - mae: 0.0133 - val_loss: 3.2385e-04 - val_mae: 0.0143 - learning_rate: 1.2500e-04\n",
      "Epoch 27/50\n",
      "\u001b[1m42/42\u001b[0m \u001b[32m━━━━━━━━━━━━━━━━━━━━\u001b[0m\u001b[37m\u001b[0m \u001b[1m1s\u001b[0m 16ms/step - loss: 3.5055e-04 - mae: 0.0131 - val_loss: 2.7623e-04 - val_mae: 0.0130 - learning_rate: 6.2500e-05\n"
     ]
    }
   ],
   "source": [
    "# CNN - LSTM Model Run\n",
    "hist_cnn_lstm = model_cnn_lstm.fit(\n",
    "    X_train, y_train,\n",
    "    validation_split=0.1,\n",
    "    epochs=epochs,\n",
    "    batch_size=batch_size,\n",
    "    callbacks=callbacks,\n",
    "    verbose=1\n",
    ")"
   ]
  },
  {
   "cell_type": "code",
   "execution_count": 31,
   "id": "ad10c01d",
   "metadata": {},
   "outputs": [
    {
     "name": "stdout",
     "output_type": "stream",
     "text": [
      "Epoch 1/50\n",
      "\u001b[1m42/42\u001b[0m \u001b[32m━━━━━━━━━━━━━━━━━━━━\u001b[0m\u001b[37m\u001b[0m \u001b[1m4s\u001b[0m 42ms/step - loss: 0.0060 - mae: 0.0530 - val_loss: 0.0028 - val_mae: 0.0450 - learning_rate: 0.0010\n",
      "Epoch 2/50\n",
      "\u001b[1m42/42\u001b[0m \u001b[32m━━━━━━━━━━━━━━━━━━━━\u001b[0m\u001b[37m\u001b[0m \u001b[1m2s\u001b[0m 36ms/step - loss: 0.0022 - mae: 0.0341 - val_loss: 0.0019 - val_mae: 0.0365 - learning_rate: 0.0010\n",
      "Epoch 3/50\n",
      "\u001b[1m42/42\u001b[0m \u001b[32m━━━━━━━━━━━━━━━━━━━━\u001b[0m\u001b[37m\u001b[0m \u001b[1m2s\u001b[0m 39ms/step - loss: 0.0018 - mae: 0.0316 - val_loss: 9.4807e-04 - val_mae: 0.0242 - learning_rate: 0.0010\n",
      "Epoch 4/50\n",
      "\u001b[1m42/42\u001b[0m \u001b[32m━━━━━━━━━━━━━━━━━━━━\u001b[0m\u001b[37m\u001b[0m \u001b[1m1s\u001b[0m 35ms/step - loss: 0.0017 - mae: 0.0302 - val_loss: 0.0016 - val_mae: 0.0337 - learning_rate: 0.0010\n",
      "Epoch 5/50\n",
      "\u001b[1m42/42\u001b[0m \u001b[32m━━━━━━━━━━━━━━━━━━━━\u001b[0m\u001b[37m\u001b[0m \u001b[1m1s\u001b[0m 35ms/step - loss: 0.0016 - mae: 0.0286 - val_loss: 8.0973e-04 - val_mae: 0.0219 - learning_rate: 5.0000e-04\n",
      "Epoch 6/50\n",
      "\u001b[1m42/42\u001b[0m \u001b[32m━━━━━━━━━━━━━━━━━━━━\u001b[0m\u001b[37m\u001b[0m \u001b[1m1s\u001b[0m 35ms/step - loss: 0.0014 - mae: 0.0272 - val_loss: 0.0010 - val_mae: 0.0258 - learning_rate: 5.0000e-04\n",
      "Epoch 7/50\n",
      "\u001b[1m42/42\u001b[0m \u001b[32m━━━━━━━━━━━━━━━━━━━━\u001b[0m\u001b[37m\u001b[0m \u001b[1m2s\u001b[0m 37ms/step - loss: 0.0013 - mae: 0.0268 - val_loss: 7.2780e-04 - val_mae: 0.0205 - learning_rate: 5.0000e-04\n",
      "Epoch 8/50\n",
      "\u001b[1m42/42\u001b[0m \u001b[32m━━━━━━━━━━━━━━━━━━━━\u001b[0m\u001b[37m\u001b[0m \u001b[1m1s\u001b[0m 35ms/step - loss: 0.0015 - mae: 0.0279 - val_loss: 8.2722e-04 - val_mae: 0.0226 - learning_rate: 5.0000e-04\n"
     ]
    }
   ],
   "source": [
    "# LSTM - CNN Model Run\n",
    "hist_lstm_cnn = model_lstm_cnn.fit(\n",
    "    X_train, y_train,\n",
    "    validation_split=0.1,\n",
    "    epochs=epochs,\n",
    "    batch_size=batch_size,\n",
    "    callbacks=callbacks,\n",
    "    verbose=1\n",
    ")\n"
   ]
  },
  {
   "cell_type": "code",
   "execution_count": 32,
   "id": "c953546a",
   "metadata": {},
   "outputs": [
    {
     "name": "stdout",
     "output_type": "stream",
     "text": [
      "Epoch 1/50\n",
      "\u001b[1m42/42\u001b[0m \u001b[32m━━━━━━━━━━━━━━━━━━━━\u001b[0m\u001b[37m\u001b[0m \u001b[1m4s\u001b[0m 39ms/step - loss: 0.0074 - mae: 0.0579 - val_loss: 0.0011 - val_mae: 0.0299 - learning_rate: 0.0010\n",
      "Epoch 2/50\n",
      "\u001b[1m42/42\u001b[0m \u001b[32m━━━━━━━━━━━━━━━━━━━━\u001b[0m\u001b[37m\u001b[0m \u001b[1m2s\u001b[0m 37ms/step - loss: 0.0017 - mae: 0.0303 - val_loss: 4.2669e-04 - val_mae: 0.0177 - learning_rate: 0.0010\n",
      "Epoch 3/50\n",
      "\u001b[1m42/42\u001b[0m \u001b[32m━━━━━━━━━━━━━━━━━━━━\u001b[0m\u001b[37m\u001b[0m \u001b[1m1s\u001b[0m 34ms/step - loss: 0.0015 - mae: 0.0276 - val_loss: 3.6812e-04 - val_mae: 0.0152 - learning_rate: 0.0010\n",
      "Epoch 4/50\n",
      "\u001b[1m42/42\u001b[0m \u001b[32m━━━━━━━━━━━━━━━━━━━━\u001b[0m\u001b[37m\u001b[0m \u001b[1m2s\u001b[0m 42ms/step - loss: 0.0014 - mae: 0.0267 - val_loss: 4.8927e-04 - val_mae: 0.0189 - learning_rate: 0.0010\n",
      "Epoch 5/50\n",
      "\u001b[1m42/42\u001b[0m \u001b[32m━━━━━━━━━━━━━━━━━━━━\u001b[0m\u001b[37m\u001b[0m \u001b[1m2s\u001b[0m 40ms/step - loss: 0.0013 - mae: 0.0248 - val_loss: 2.9914e-04 - val_mae: 0.0140 - learning_rate: 5.0000e-04\n",
      "Epoch 6/50\n",
      "\u001b[1m42/42\u001b[0m \u001b[32m━━━━━━━━━━━━━━━━━━━━\u001b[0m\u001b[37m\u001b[0m \u001b[1m3s\u001b[0m 40ms/step - loss: 0.0012 - mae: 0.0242 - val_loss: 2.7691e-04 - val_mae: 0.0136 - learning_rate: 5.0000e-04\n",
      "Epoch 7/50\n",
      "\u001b[1m42/42\u001b[0m \u001b[32m━━━━━━━━━━━━━━━━━━━━\u001b[0m\u001b[37m\u001b[0m \u001b[1m3s\u001b[0m 40ms/step - loss: 0.0012 - mae: 0.0245 - val_loss: 2.7962e-04 - val_mae: 0.0127 - learning_rate: 5.0000e-04\n",
      "Epoch 8/50\n",
      "\u001b[1m42/42\u001b[0m \u001b[32m━━━━━━━━━━━━━━━━━━━━\u001b[0m\u001b[37m\u001b[0m \u001b[1m2s\u001b[0m 43ms/step - loss: 0.0012 - mae: 0.0235 - val_loss: 4.1666e-04 - val_mae: 0.0154 - learning_rate: 5.0000e-04\n"
     ]
    }
   ],
   "source": [
    "#  CNN + LSTM Parallel Model Run\n",
    "hist_cnn_lstm_parallel = model_parallel.fit(\n",
    "    X_train, y_train,\n",
    "    validation_split=0.1,\n",
    "    epochs=epochs,\n",
    "    batch_size=batch_size,\n",
    "    callbacks=callbacks,\n",
    "    verbose=1\n",
    ")\n"
   ]
  },
  {
   "cell_type": "markdown",
   "id": "60df048e",
   "metadata": {},
   "source": [
    "Evaluation"
   ]
  },
  {
   "cell_type": "code",
   "execution_count": 34,
   "id": "711b31cd",
   "metadata": {},
   "outputs": [],
   "source": [
    "def evaluate_model(model, X_train, y_train, X_test, y_test, name):\n",
    "    pred_train = model.predict(X_train)\n",
    "    pred_test = model.predict(X_test)\n",
    "    \n",
    "    rmse_train = math.sqrt(mean_squared_error(y_train, pred_train))\n",
    "    rmse_test = math.sqrt(mean_squared_error(y_test, pred_test))\n",
    "    mae_test = mean_absolute_error(y_test, pred_test)\n",
    "    \n",
    "    print(f'{name} - Train RMSE: {rmse_train:.4f}, Test RMSE: {rmse_test:.4f}, Test MAE: {mae_test:.4f}')\n",
    "    "
   ]
  },
  {
   "cell_type": "code",
   "execution_count": 35,
   "id": "238b0331",
   "metadata": {},
   "outputs": [
    {
     "name": "stdout",
     "output_type": "stream",
     "text": [
      "\u001b[1m93/93\u001b[0m \u001b[32m━━━━━━━━━━━━━━━━━━━━\u001b[0m\u001b[37m\u001b[0m \u001b[1m1s\u001b[0m 5ms/step\n",
      "\u001b[1m24/24\u001b[0m \u001b[32m━━━━━━━━━━━━━━━━━━━━\u001b[0m\u001b[37m\u001b[0m \u001b[1m0s\u001b[0m 4ms/step\n",
      "CNN-LSTM - Train RMSE: 0.0144, Test RMSE: 0.1016, Test MAE: 0.0901\n",
      "\u001b[1m93/93\u001b[0m \u001b[32m━━━━━━━━━━━━━━━━━━━━\u001b[0m\u001b[37m\u001b[0m \u001b[1m1s\u001b[0m 10ms/step\n",
      "\u001b[1m24/24\u001b[0m \u001b[32m━━━━━━━━━━━━━━━━━━━━\u001b[0m\u001b[37m\u001b[0m \u001b[1m0s\u001b[0m 9ms/step\n",
      "LSTM-CNN - Train RMSE: 0.0384, Test RMSE: 0.1291, Test MAE: 0.1097\n",
      "\u001b[1m93/93\u001b[0m \u001b[32m━━━━━━━━━━━━━━━━━━━━\u001b[0m\u001b[37m\u001b[0m \u001b[1m1s\u001b[0m 9ms/step\n",
      "\u001b[1m24/24\u001b[0m \u001b[32m━━━━━━━━━━━━━━━━━━━━\u001b[0m\u001b[37m\u001b[0m \u001b[1m0s\u001b[0m 7ms/step\n",
      "Parallel - Train RMSE: 0.0269, Test RMSE: 0.1294, Test MAE: 0.1170\n"
     ]
    }
   ],
   "source": [
    "evaluate_model(model_cnn_lstm, X_train, y_train, X_test, y_test, \"CNN-LSTM\")\n",
    "evaluate_model(model_lstm_cnn, X_train, y_train, X_test, y_test, \"LSTM-CNN\")\n",
    "evaluate_model(model_parallel, X_train, y_train, X_test, y_test, \"Parallel\")"
   ]
  },
  {
   "cell_type": "markdown",
   "id": "261444db",
   "metadata": {},
   "source": []
  },
  {
   "cell_type": "code",
   "execution_count": null,
   "id": "1284bca1",
   "metadata": {},
   "outputs": [],
   "source": []
  }
 ],
 "metadata": {
  "kernelspec": {
   "display_name": "dsvenv",
   "language": "python",
   "name": "python3"
  },
  "language_info": {
   "codemirror_mode": {
    "name": "ipython",
    "version": 3
   },
   "file_extension": ".py",
   "mimetype": "text/x-python",
   "name": "python",
   "nbconvert_exporter": "python",
   "pygments_lexer": "ipython3",
   "version": "3.13.7"
  }
 },
 "nbformat": 4,
 "nbformat_minor": 5
}
